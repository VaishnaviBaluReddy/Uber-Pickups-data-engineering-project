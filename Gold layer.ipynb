{
 "cells": [
  {
   "cell_type": "code",
   "execution_count": 0,
   "metadata": {
    "application/vnd.databricks.v1+cell": {
     "cellMetadata": {
      "byteLimit": 2048000,
      "rowLimit": 10000
     },
     "inputWidgets": {},
     "nuid": "c1aa9389-26ea-40ba-bd91-e94d48453552",
     "showTitle": false,
     "title": ""
    }
   },
   "outputs": [],
   "source": [
    "from pyspark.sql.types import *\n",
    "from pyspark.sql import DataFrame\n",
    "from functools import reduce\n",
    "from pyspark.sql.functions import *\n",
    "from pyspark.sql import functions as F\n",
    "import os\n",
    "from pyspark.sql import *\n",
    "from pyspark.sql.functions import col, sum"
   ]
  },
  {
   "cell_type": "code",
   "execution_count": 0,
   "metadata": {
    "application/vnd.databricks.v1+cell": {
     "cellMetadata": {
      "byteLimit": 2048000,
      "rowLimit": 10000
     },
     "inputWidgets": {},
     "nuid": "1fbfa29c-30d5-4fed-96cd-27e4b24c8a1e",
     "showTitle": false,
     "title": ""
    }
   },
   "outputs": [
    {
     "output_type": "stream",
     "name": "stdout",
     "output_type": "stream",
     "text": [
      "Folder 'Uber_Gold_tables' created successfully at path 'dbfs:/FileStore/Uber_Gold_tables/'.\n"
     ]
    }
   ],
   "source": [
    "new_folder_name = \"Uber_Gold_tables\"\n",
    "\n",
    "new_folder_path = \"dbfs:/FileStore/\" + new_folder_name + \"/\"\n",
    "\n",
    "dbutils.fs.mkdirs(new_folder_path)\n",
    "\n",
    "try:\n",
    "    dbutils.fs.mkdirs(new_folder_path)\n",
    "    print(f\"Folder '{new_folder_name}' created successfully at path '{new_folder_path}'.\")\n",
    "except Exception as e:\n",
    "    print(f\"Failed to create folder '{new_folder_name}' at path '{new_folder_path}'.\")\n",
    "    print(f\"Error: {e}\")"
   ]
  },
  {
   "cell_type": "code",
   "execution_count": 0,
   "metadata": {
    "application/vnd.databricks.v1+cell": {
     "cellMetadata": {
      "byteLimit": 2048000,
      "rowLimit": 10000
     },
     "inputWidgets": {},
     "nuid": "26396b9a-6ecb-46c2-94c5-05bdc95d7f72",
     "showTitle": false,
     "title": ""
    }
   },
   "outputs": [
    {
     "output_type": "stream",
     "name": "stdout",
     "output_type": "stream",
     "text": [
      "Out[3]: []"
     ]
    }
   ],
   "source": [
    "dbutils.fs.ls(\"dbfs:/FileStore/Uber_Gold_tables/\")"
   ]
  },
  {
   "cell_type": "code",
   "execution_count": 0,
   "metadata": {
    "application/vnd.databricks.v1+cell": {
     "cellMetadata": {
      "byteLimit": 2048000,
      "rowLimit": 10000
     },
     "inputWidgets": {},
     "nuid": "67c0b542-4a9c-4391-8608-cca28698070b",
     "showTitle": false,
     "title": ""
    }
   },
   "outputs": [],
   "source": [
    "spark.conf.set(\"spark.databricks.delta.formatCheck.enabled\", \"false\")"
   ]
  },
  {
   "cell_type": "code",
   "execution_count": 0,
   "metadata": {
    "application/vnd.databricks.v1+cell": {
     "cellMetadata": {
      "byteLimit": 2048000,
      "rowLimit": 10000
     },
     "inputWidgets": {},
     "nuid": "d7f4d64e-1c82-4369-b559-1766e15c51a5",
     "showTitle": false,
     "title": ""
    }
   },
   "outputs": [
    {
     "output_type": "stream",
     "name": "stdout",
     "output_type": "stream",
     "text": [
      "Out[2]: DataFrame[]"
     ]
    }
   ],
   "source": [
    "spark.sql(f'DROP table if exists Uber_GOLD')\n",
    "create_db_qry=f\"\"\"CREATE DATABASE IF NOT EXISTS Uber_Gold\"\"\"\n",
    "spark.sql(create_db_qry)"
   ]
  },
  {
   "cell_type": "code",
   "execution_count": 0,
   "metadata": {
    "application/vnd.databricks.v1+cell": {
     "cellMetadata": {
      "byteLimit": 2048000,
      "rowLimit": 10000
     },
     "inputWidgets": {},
     "nuid": "1b4faa05-ede3-4384-936f-d88dbf39fbe7",
     "showTitle": false,
     "title": ""
    }
   },
   "outputs": [],
   "source": [
    "file_path = \"dbfs:/FileStore/UberPickUps/Silver_Tables/Uber_AprSep14/\"\n",
    "dfs_Uber_AprSep14 = spark.read.format(\"delta\").option(\"header\", \"true\").load(file_path)"
   ]
  },
  {
   "cell_type": "code",
   "execution_count": 0,
   "metadata": {
    "application/vnd.databricks.v1+cell": {
     "cellMetadata": {
      "byteLimit": 2048000,
      "rowLimit": 10000
     },
     "inputWidgets": {},
     "nuid": "0394589d-82e1-40c8-ac4e-09246cd12bdb",
     "showTitle": false,
     "title": ""
    }
   },
   "outputs": [],
   "source": [
    "file_path = \"dbfs:/FileStore/UberPickUps/Silver_Tables/Uber_JanJun15/\"\n",
    "dfs_Uber_JanJun15 = spark.read.format(\"delta\").option(\"header\", \"true\").load(file_path)"
   ]
  },
  {
   "cell_type": "code",
   "execution_count": 0,
   "metadata": {
    "application/vnd.databricks.v1+cell": {
     "cellMetadata": {
      "byteLimit": 2048000,
      "rowLimit": 10000
     },
     "inputWidgets": {},
     "nuid": "bb955ef2-9b18-4e31-85c7-a91b443764eb",
     "showTitle": false,
     "title": ""
    }
   },
   "outputs": [],
   "source": [
    "file_path = \"dbfs:/FileStore/UberPickUps/Silver_Tables/FHV_Data/\"\n",
    "dfs_FHV_Data = spark.read.format(\"delta\").option(\"header\", \"true\").load(file_path)"
   ]
  },
  {
   "cell_type": "code",
   "execution_count": 0,
   "metadata": {
    "application/vnd.databricks.v1+cell": {
     "cellMetadata": {
      "byteLimit": 2048000,
      "rowLimit": 10000
     },
     "inputWidgets": {},
     "nuid": "a13e76cb-334d-41ac-887b-a0aeef66a77f",
     "showTitle": false,
     "title": ""
    }
   },
   "outputs": [],
   "source": [
    "file_path = \"dbfs:/FileStore/UberPickUps/Silver_Tables/UBERandFHV/\"\n",
    "dfs_UBERandFHV = spark.read.format(\"delta\").option(\"header\", \"true\").load(file_path)\n"
   ]
  },
  {
   "cell_type": "code",
   "execution_count": 0,
   "metadata": {
    "application/vnd.databricks.v1+cell": {
     "cellMetadata": {
      "byteLimit": 2048000,
      "rowLimit": 10000
     },
     "inputWidgets": {},
     "nuid": "35020d7e-5572-4a01-a715-48873b38829d",
     "showTitle": false,
     "title": ""
    }
   },
   "outputs": [
    {
     "output_type": "stream",
     "name": "stdout",
     "output_type": "stream",
     "text": [
      "+----------+-------+--------+--------------------+-------------------+--------+--------+---------+\n|      Date|    Lat|     Lon|Dispatching_Base_Num|           Category|    Time| trip_ID|Base_Name|\n+----------+-------+--------+--------------------+-------------------+--------+--------+---------+\n|2014-04-01| 40.769|-73.9549|              B02512|uber_raw_data_apr14|00:11:00|11947673|    Unter|\n|2014-04-01|40.7267|-74.0345|              B02512|uber_raw_data_apr14|00:17:00|11947673|    Unter|\n+----------+-------+--------+--------------------+-------------------+--------+--------+---------+\nonly showing top 2 rows\n\n+--------------------+--------------------+----------+--------+--------+---------+--------+\n|Dispatching_Base_Num|            Category|      Date|    Time| trip_ID|Base_Name|Price[$]|\n+--------------------+--------------------+----------+--------+--------+---------+--------+\n|              B02617|uber_raw_data_jan...|2015-05-17|09:47:00|40000000|   Weiter|   93.66|\n|              B02617|uber_raw_data_jan...|2015-05-17|09:47:00|40000001|   Weiter|    5.60|\n+--------------------+--------------------+----------+--------+--------+---------+--------+\nonly showing top 2 rows\n\n+----------+--------------------+-----------------+---------------+---------+-----+--------+\n|      Date|Dispatching_Base_Num|         Category|Active_Vehicles|Base_Name|Trips| trip_ID|\n+----------+--------------------+-----------------+---------------+---------+-----+--------+\n|01-01-2015|              B02512|Uber_Jan_Feb_FOIL|            190|    Unter| 1132|21947673|\n|01-01-2015|              B02765|Uber_Jan_Feb_FOIL|            225|     Grun| 1765|21947673|\n+----------+--------------------+-----------------+---------------+---------+-----+--------+\nonly showing top 2 rows\n\n+----------+-----------------+--------------------+--------+--------+\n|      Date|   Pickup_Address|            Category|    Time| trip_ID|\n+----------+-----------------+--------------------+--------+--------+\n|07-01-2014|622 THIRD AV M   |other_Skyline_B00111|20:27:00|31947673|\n|07-01-2014| E 77TH ST   M   |other_Skyline_B00111|21:04:00|31947673|\n+----------+-----------------+--------------------+--------+--------+\nonly showing top 2 rows\n\n"
     ]
    }
   ],
   "source": [
    "dfs_Uber_AprSep14.show(2)\n",
    "dfs_Uber_JanJun15.show(2)\n",
    "dfs_UBERandFHV.show(2)\n",
    "dfs_FHV_Data.show(2)"
   ]
  },
  {
   "cell_type": "markdown",
   "metadata": {
    "application/vnd.databricks.v1+cell": {
     "cellMetadata": {},
     "inputWidgets": {},
     "nuid": "ef530845-f594-4621-b017-a40c3f5e6f3c",
     "showTitle": false,
     "title": ""
    }
   },
   "source": [
    "**Location-Based Marketing: Identify high-demand areas and peak times to target promotions and incentives to both riders and drivers.**"
   ]
  },
  {
   "cell_type": "code",
   "execution_count": 0,
   "metadata": {
    "application/vnd.databricks.v1+cell": {
     "cellMetadata": {
      "byteLimit": 2048000,
      "rowLimit": 10000
     },
     "inputWidgets": {},
     "nuid": "24508bcf-c9e7-4016-828e-d05a2b595a0f",
     "showTitle": false,
     "title": ""
    }
   },
   "outputs": [
    {
     "output_type": "stream",
     "name": "stdout",
     "output_type": "stream",
     "text": [
      "+-------------+-------------+----------+------------+-----------+\n|Truncated_Lat|Truncated_Lon|      Date|TimeInterval|Total_Trips|\n+-------------+-------------+----------+------------+-----------+\n|           40|          -74|2014-05-01| 12am to 8am|         74|\n|           40|          -75|2014-05-01| 12am to 8am|         26|\n|           41|          -75|2014-09-01| 12am to 8am|          1|\n|           40|          -74|2014-09-01| 12am to 8am|         45|\n|           40|          -75|2014-09-01| 12am to 8am|         11|\n+-------------+-------------+----------+------------+-----------+\nonly showing top 5 rows\n\n"
     ]
    }
   ],
   "source": [
    "columns = [\"Date\", \"Lat\", \"Lon\", \"Dispatching_Base_Num\", \"Category\", \"Time\", \"trip_ID\", \"Base_Name\"]\n",
    "dfs_Uber_AprSep14 = dfs_Uber_AprSep14.withColumn(\"Hour\", hour(col(\"Time\")))\n",
    "\n",
    "dfs_Uber_AprSep14 = dfs_Uber_AprSep14.withColumn(\n",
    "    \"TimeInterval\",\n",
    "    when((col(\"Hour\") >= 8) & (col(\"Hour\") < 12), \"8am to 12pm\")\n",
    "    .when((col(\"Hour\") >= 12) & (col(\"Hour\") < 16), \"12pm to 4pm\")\n",
    "    .when((col(\"Hour\") >= 16) & (col(\"Hour\") < 24), \"4pm to 12am\")\n",
    "    .otherwise(\"12am to 8am\")\n",
    ")\n",
    "dfs_Uber_AprSep14 = dfs_Uber_AprSep14.withColumn(\"Truncated_Lat\", floor(col(\"Lat\"))) \\\n",
    "                                     .withColumn(\"Truncated_Lon\", floor(col(\"Lon\")))\n",
    "\n",
    "dfs_Uber_AprSep14_grouped = dfs_Uber_AprSep14.groupBy(\"Truncated_Lat\", \"Truncated_Lon\", \"Date\", \"TimeInterval\") \\\n",
    "               .agg(count(\"trip_ID\").alias(\"Total_Trips\"))\n",
    "\n",
    "dfs_Uber_AprSep14_grouped.show(5)"
   ]
  },
  {
   "cell_type": "markdown",
   "metadata": {
    "application/vnd.databricks.v1+cell": {
     "cellMetadata": {},
     "inputWidgets": {},
     "nuid": "8fa8118c-94b0-47c6-9f2e-0273972b67d9",
     "showTitle": false,
     "title": ""
    }
   },
   "source": [
    "**Location-Based Marketing: Identify variations in trip counts by location and date**"
   ]
  },
  {
   "cell_type": "code",
   "execution_count": 0,
   "metadata": {
    "application/vnd.databricks.v1+cell": {
     "cellMetadata": {
      "byteLimit": 2048000,
      "rowLimit": 10000
     },
     "inputWidgets": {},
     "nuid": "9af6e3cd-bacf-406d-b8dd-0f03e25b2d30",
     "showTitle": false,
     "title": ""
    }
   },
   "outputs": [
    {
     "output_type": "stream",
     "name": "stdout",
     "output_type": "stream",
     "text": [
      "+-------------+-------------+----------+-----------+-------------+\n|Truncated_Lat|Truncated_Lon|      Date|Total_Trips|Diff_in_Trips|\n+-------------+-------------+----------+-----------+-------------+\n|           40|          -75|2014-04-01|         28|         null|\n|           40|          -75|2014-05-01|         26|           -2|\n|           40|          -75|2014-06-01|         33|            7|\n|           40|          -75|2014-07-01|         23|          -10|\n|           40|          -75|2014-08-01|         33|           10|\n+-------------+-------------+----------+-----------+-------------+\nonly showing top 5 rows\n\n"
     ]
    }
   ],
   "source": [
    "windowSpec = Window.partitionBy(\"Truncated_Lat\", \"Truncated_Lon\").orderBy(\"Date\")\n",
    "\n",
    "Uber_AprSep14_lag_lead = dfs_Uber_AprSep14_grouped.withColumn(\"Previous_Total_Trips\", lag(\"Total_Trips\").over(windowSpec))\n",
    "Uber_AprSep14_lag_lead = Uber_AprSep14_lag_lead.withColumn(\"Diff_in_Trips\", col(\"Total_Trips\") - col(\"Previous_Total_Trips\"))\n",
    "Uber_AprSep14_lag_lead = Uber_AprSep14_lag_lead.drop(\"TimeInterval\", \"Previous_Total_Trips\")\n",
    "Uber_AprSep14_lag_lead.show(5)"
   ]
  },
  {
   "cell_type": "markdown",
   "metadata": {
    "application/vnd.databricks.v1+cell": {
     "cellMetadata": {},
     "inputWidgets": {},
     "nuid": "05aece91-b72a-4c4b-ab61-3d87e0309e36",
     "showTitle": false,
     "title": ""
    }
   },
   "source": [
    "**Performance Benchmarking: Compare performance metrics across different dispatching bases on particular days to identify best days of week.**"
   ]
  },
  {
   "cell_type": "code",
   "execution_count": 0,
   "metadata": {
    "application/vnd.databricks.v1+cell": {
     "cellMetadata": {
      "byteLimit": 2048000,
      "rowLimit": 10000
     },
     "inputWidgets": {},
     "nuid": "612bd315-e6d2-44f5-8c5d-ab15a777a5e5",
     "showTitle": false,
     "title": ""
    }
   },
   "outputs": [
    {
     "output_type": "stream",
     "name": "stdout",
     "output_type": "stream",
     "text": [
      "+--------------------+----------+---------+---------+-------------------+\n|Dispatching_Base_Num|      Date|DayOfWeek|Base_Name|Total_Price_per_day|\n+--------------------+----------+---------+---------+-------------------+\n|              B02617|2015-05-17|   Sunday|   Weiter|            5528.02|\n+--------------------+----------+---------+---------+-------------------+\n\n"
     ]
    }
   ],
   "source": [
    "dfs_Uber_JanJun15 = dfs_Uber_JanJun15.withColumn(\"DayOfWeek\", date_format(col(\"Date\"), \"EEEE\"))\n",
    "df_total_price_per_day  = dfs_Uber_JanJun15.groupBy(\"Dispatching_Base_Num\", \"Date\", \"DayOfWeek\", \"Base_Name\").agg(sum(\"Price[$]\").alias(\"Total_Price_per_day\"))\n",
    "df_total_price_per_day = df_total_price_per_day.withColumn(\"Total_Price_per_day\", col(\"Total_Price_per_day\").cast(\"float\"))\n",
    "df_total_price_per_day.show(5)"
   ]
  },
  {
   "cell_type": "markdown",
   "metadata": {
    "application/vnd.databricks.v1+cell": {
     "cellMetadata": {},
     "inputWidgets": {},
     "nuid": "60f23a51-1ae8-4fc7-a8b3-1de0a7ed0c47",
     "showTitle": false,
     "title": ""
    }
   },
   "source": [
    "**Ride Pricing Optimization: Use data to optimize pricing strategies during different times and for different ride categories.​**"
   ]
  },
  {
   "cell_type": "code",
   "execution_count": 0,
   "metadata": {
    "application/vnd.databricks.v1+cell": {
     "cellMetadata": {
      "byteLimit": 2048000,
      "rowLimit": 10000
     },
     "inputWidgets": {},
     "nuid": "29c99fc9-64ea-429b-9693-fd686ea83d7f",
     "showTitle": false,
     "title": ""
    }
   },
   "outputs": [
    {
     "output_type": "stream",
     "name": "stdout",
     "output_type": "stream",
     "text": [
      "+------------+-----------+-----------+\n|TimeInterval|Total_Rides|Total_Price|\n+------------+-----------+-----------+\n| 8am to 12pm|        100|    5528.02|\n+------------+-----------+-----------+\n\n"
     ]
    }
   ],
   "source": [
    "dfs_Uber_JanJun15 = dfs_Uber_JanJun15.withColumn(\"Hour\", hour(col(\"Time\")))\n",
    "\n",
    "dfs_Uber_JanJun15 = dfs_Uber_JanJun15.withColumn(\n",
    "    \"TimeInterval\",\n",
    "    when((col(\"Hour\") >= 8) & (col(\"Hour\") < 12), \"8am to 12pm\")\n",
    "    .when((col(\"Hour\") >= 12) & (col(\"Hour\") < 16), \"12pm to 4pm\")\n",
    "    .when((col(\"Hour\") >= 16) & (col(\"Hour\") < 24), \"4pm to 12am\")\n",
    "    .otherwise(\"12am to 8am\")\n",
    ")\n",
    "\n",
    "P_T_time = dfs_Uber_JanJun15.groupBy(\"TimeInterval\") \\\n",
    "               .agg(count(\"trip_ID\").alias(\"Total_Rides\"), sum(\"Price[$]\").alias(\"Total_Price\"))\n",
    "P_T_time = P_T_time.withColumn(\"Total_Price\", col(\"Total_Price\").cast(\"float\"))\n",
    "\n",
    "P_T_time.show()"
   ]
  },
  {
   "cell_type": "markdown",
   "metadata": {
    "application/vnd.databricks.v1+cell": {
     "cellMetadata": {},
     "inputWidgets": {},
     "nuid": "7f2024a4-fd14-4075-a1be-8a97d170ebeb",
     "showTitle": false,
     "title": ""
    }
   },
   "source": [
    "**Cumulative Trips and Active Vehicles: Use the data to get the cumulative number of trips and active vehicles based on the Base names and Category**"
   ]
  },
  {
   "cell_type": "code",
   "execution_count": 0,
   "metadata": {
    "application/vnd.databricks.v1+cell": {
     "cellMetadata": {
      "byteLimit": 2048000,
      "rowLimit": 10000
     },
     "inputWidgets": {},
     "nuid": "a7df91d1-28dc-4f2f-ab9d-8f3b61381ea3",
     "showTitle": false,
     "title": ""
    }
   },
   "outputs": [
    {
     "output_type": "stream",
     "name": "stdout",
     "output_type": "stream",
     "text": [
      "+--------------------+--------------------+---------------------+-----------+\n|Dispatching_Base_Num|            Category|Total_Active_Vehicles|Total_Trips|\n+--------------------+--------------------+---------------------+-----------+\n|              B00013|other_FHV_service...|                 59.0|      105.0|\n|              B00014|other_FHV_service...|                 86.0|      155.0|\n|              B00029|other_FHV_service...|                 82.0|      731.0|\n|              B00053|other_FHV_service...|                 31.0|       36.0|\n|              B00095|other_FHV_service...|                144.0|     1644.0|\n+--------------------+--------------------+---------------------+-----------+\nonly showing top 5 rows\n\n"
     ]
    }
   ],
   "source": [
    "cumulative_vehicles_trips = dfs_UBERandFHV\n",
    "cumulative_vehicles_trips = cumulative_vehicles_trips.groupby(['Dispatching_Base_Num', 'Category']).agg({'Active_Vehicles': 'sum','Trips': 'sum'})\n",
    "cumulative_vehicles_trips = cumulative_vehicles_trips.orderBy(\"Dispatching_Base_Num\", \"Category\")\n",
    "cumulative_vehicles_trips = cumulative_vehicles_trips.withColumnRenamed('sum(Active_Vehicles)', 'Total_Active_Vehicles')\\\n",
    "                                            .withColumnRenamed('sum(Trips)', 'Total_Trips')\n",
    "cumulative_vehicles_trips.show(5)"
   ]
  },
  {
   "cell_type": "markdown",
   "metadata": {
    "application/vnd.databricks.v1+cell": {
     "cellMetadata": {},
     "inputWidgets": {},
     "nuid": "bf7b3655-6371-447f-ad56-ce44b3175af7",
     "showTitle": false,
     "title": ""
    }
   },
   "source": [
    "**Time and Category Analysis: Determine the total number of trips conducted by non-Uber FHV vehicles within a particular category and time range.**"
   ]
  },
  {
   "cell_type": "code",
   "execution_count": 0,
   "metadata": {
    "application/vnd.databricks.v1+cell": {
     "cellMetadata": {
      "byteLimit": 2048000,
      "rowLimit": 10000
     },
     "inputWidgets": {},
     "nuid": "6f416370-803a-49b6-8964-6173a1bb443f",
     "showTitle": false,
     "title": ""
    }
   },
   "outputs": [
    {
     "output_type": "stream",
     "name": "stdout",
     "output_type": "stream",
     "text": [
      "+--------------------+------------+-----------+\n|            Category|TimeInterval|Total_Trips|\n+--------------------+------------+-----------+\n| other_Federal_02216| 12am to 4am|        100|\n|other_Prestige_B0...| 12am to 4am|        100|\n|other_Skyline_B00111| 8am to 12pm|         12|\n|other_Skyline_B00111| 12pm to 4pm|         18|\n|other_Skyline_B00111| 12am to 4am|         23|\n|other_Skyline_B00111| 4pm to 12am|         47|\n|other_Highclass_B...| 12am to 4am|        100|\n|other_Firstclass_...| 12am to 4am|        100|\n| other_Carmel_B00256| 12am to 4am|        100|\n|   other_Lyft_B02510| 8am to 12pm|          1|\n|   other_Lyft_B02510| 12am to 4am|         58|\n|   other_Lyft_B02510| 4pm to 12am|         36|\n|   other_Lyft_B02510| 12pm to 4pm|          5|\n|other_American_B0...| 12am to 4am|        100|\n+--------------------+------------+-----------+\n\n"
     ]
    }
   ],
   "source": [
    "dfs_FHV_Data = dfs_FHV_Data.withColumn(\n",
    "    \"TimeInterval\",\n",
    "    when((col(\"Time\") >= \"08:00\") & (col(\"Time\") < \"12:00\"), \"8am to 12pm\")\n",
    "    .when((col(\"Time\") >= \"12:00\") & (col(\"Time\") < \"16:00\"), \"12pm to 4pm\")\n",
    "    .when((col(\"Time\") >= \"16:00\") & (col(\"Time\") < \"24:00\"), \"4pm to 12am\")\n",
    "    .otherwise(\"12am to 4am\")\n",
    ")\n",
    "\n",
    "df_category_time_analysis = dfs_FHV_Data.groupBy(\"Category\", \"TimeInterval\") \\\n",
    "    .agg(count(\"trip_ID\").alias(\"Total_Trips\"))\n",
    "\n",
    "df_category_time_analysis.show()"
   ]
  },
  {
   "cell_type": "code",
   "execution_count": 0,
   "metadata": {
    "application/vnd.databricks.v1+cell": {
     "cellMetadata": {
      "byteLimit": 2048000,
      "rowLimit": 10000
     },
     "inputWidgets": {},
     "nuid": "6c2d7075-ac70-4f27-8fe8-9ef73c8c3ce9",
     "showTitle": false,
     "title": ""
    }
   },
   "outputs": [],
   "source": [
    "cumulative_vehicles_trips.write.format(\"delta\").mode(\"overwrite\").option(\"path\", \"dbfs:/FileStore/Uber_Gold_tables/Cumulative_Vehicles_Trips/\").save()\n",
    "cumulative_vehicles_trips.write.mode(\"overwrite\").saveAsTable('Uber_Gold.cumulative_vehicles_trips')"
   ]
  },
  {
   "cell_type": "code",
   "execution_count": 0,
   "metadata": {
    "application/vnd.databricks.v1+cell": {
     "cellMetadata": {
      "byteLimit": 2048000,
      "rowLimit": 10000
     },
     "inputWidgets": {},
     "nuid": "76b2d090-2fde-4ef5-ad6a-43e52b327101",
     "showTitle": false,
     "title": ""
    }
   },
   "outputs": [],
   "source": [
    "dfs_Uber_AprSep14_grouped.write.format(\"delta\").mode(\"overwrite\").option(\"path\", \"dbfs:/FileStore/Uber_Gold_tables/Uber_AprSep14_grouped/\").save()\n",
    "dfs_Uber_AprSep14_grouped.write.mode(\"overwrite\").saveAsTable('Uber_Gold.Uber_AprSep14_grouped')"
   ]
  },
  {
   "cell_type": "code",
   "execution_count": 0,
   "metadata": {
    "application/vnd.databricks.v1+cell": {
     "cellMetadata": {
      "byteLimit": 2048000,
      "rowLimit": 10000
     },
     "inputWidgets": {},
     "nuid": "aba9509c-2112-4a99-b5f4-cf47ec1a8966",
     "showTitle": false,
     "title": ""
    }
   },
   "outputs": [],
   "source": [
    "df_total_price_per_day.write.format(\"delta\").mode(\"overwrite\").option(\"path\", \"dbfs:/FileStore/Uber_Gold_tables/total_price_per_day/\").save()\n",
    "df_total_price_per_day.write.mode(\"overwrite\").saveAsTable('Uber_Gold.total_price_per_day')"
   ]
  },
  {
   "cell_type": "code",
   "execution_count": 0,
   "metadata": {
    "application/vnd.databricks.v1+cell": {
     "cellMetadata": {
      "byteLimit": 2048000,
      "rowLimit": 10000
     },
     "inputWidgets": {},
     "nuid": "5aba4153-8647-4410-9641-8ad680b33eb1",
     "showTitle": false,
     "title": ""
    }
   },
   "outputs": [],
   "source": [
    "P_T_time.write.format(\"delta\").mode(\"overwrite\").option(\"path\", \"dbfs:/FileStore/Uber_Gold_tables/P_T_time/\").save()\n",
    "P_T_time.write.mode(\"overwrite\").saveAsTable('Uber_Gold.P_T_time')"
   ]
  },
  {
   "cell_type": "code",
   "execution_count": 0,
   "metadata": {
    "application/vnd.databricks.v1+cell": {
     "cellMetadata": {
      "byteLimit": 2048000,
      "rowLimit": 10000
     },
     "inputWidgets": {},
     "nuid": "c72b7ee3-715e-46e8-8651-e0a8599ac9c3",
     "showTitle": false,
     "title": ""
    }
   },
   "outputs": [],
   "source": [
    "df_category_time_analysis.write.format(\"delta\").mode(\"overwrite\").option(\"path\", \"dbfs:/FileStore/Uber_Gold_tables/category_time_analysis/\").save()\n",
    "df_category_time_analysis.write.mode(\"overwrite\").saveAsTable('Uber_Gold.category_time_analysis')"
   ]
  },
  {
   "cell_type": "code",
   "execution_count": 0,
   "metadata": {
    "application/vnd.databricks.v1+cell": {
     "cellMetadata": {
      "byteLimit": 2048000,
      "rowLimit": 10000
     },
     "inputWidgets": {},
     "nuid": "dbd6e822-30c1-4537-bd39-dea0f000934c",
     "showTitle": false,
     "title": ""
    }
   },
   "outputs": [],
   "source": [
    "Uber_AprSep14_lag_lead.write.format(\"delta\").mode(\"overwrite\").option(\"path\", \"dbfs:/FileStore/Uber_Gold_tables/Uber_AprSep14_lag_lead/\").save()\n",
    "Uber_AprSep14_lag_lead.write.mode(\"overwrite\").saveAsTable('Uber_Gold.Uber_AprSep14_lag_lead')"
   ]
  },
  {
   "cell_type": "code",
   "execution_count": 0,
   "metadata": {
    "application/vnd.databricks.v1+cell": {
     "cellMetadata": {},
     "inputWidgets": {},
     "nuid": "8290ea76-a566-4005-bd41-6ca2e499ef0f",
     "showTitle": false,
     "title": ""
    }
   },
   "outputs": [],
   "source": []
  }
 ],
 "metadata": {
  "application/vnd.databricks.v1+notebook": {
   "dashboards": [],
   "environmentMetadata": null,
   "language": "python",
   "notebookMetadata": {
    "pythonIndentUnit": 4
   },
   "notebookName": "Gold layer",
   "widgets": {}
  }
 },
 "nbformat": 4,
 "nbformat_minor": 0
}
