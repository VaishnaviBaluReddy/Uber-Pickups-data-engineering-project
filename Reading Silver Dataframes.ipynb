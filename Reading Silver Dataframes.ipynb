{
 "cells": [
  {
   "cell_type": "code",
   "execution_count": 0,
   "metadata": {
    "application/vnd.databricks.v1+cell": {
     "cellMetadata": {
      "byteLimit": 2048000,
      "rowLimit": 10000
     },
     "inputWidgets": {},
     "nuid": "1185be33-aaea-414a-aa53-d95d676e03ff",
     "showTitle": false,
     "title": ""
    }
   },
   "outputs": [],
   "source": [
    "from pyspark.sql.types import *\n",
    "from pyspark.sql import DataFrame\n",
    "from functools import reduce\n",
    "from pyspark.sql.functions import *\n",
    "from pyspark.sql import functions as F\n",
    "import os\n",
    "from pyspark.sql import *\n",
    "from pyspark.sql.functions import col, sum"
   ]
  },
  {
   "cell_type": "code",
   "execution_count": 0,
   "metadata": {
    "application/vnd.databricks.v1+cell": {
     "cellMetadata": {
      "byteLimit": 2048000,
      "rowLimit": 10000
     },
     "inputWidgets": {},
     "nuid": "f4d8c90e-337a-4dfd-ba01-690062b2bc35",
     "showTitle": false,
     "title": ""
    }
   },
   "outputs": [
    {
     "output_type": "stream",
     "name": "stdout",
     "output_type": "stream",
     "text": [
      "Out[2]: True"
     ]
    }
   ],
   "source": [
    "dbutils.fs.rm(\"dbfs:/FileStore/UberPickUps/Silver_Tables/\", True)"
   ]
  },
  {
   "cell_type": "code",
   "execution_count": 0,
   "metadata": {
    "application/vnd.databricks.v1+cell": {
     "cellMetadata": {
      "byteLimit": 2048000,
      "rowLimit": 10000
     },
     "inputWidgets": {},
     "nuid": "42d3c3cd-db19-4820-9a0e-ab4eb72a0e04",
     "showTitle": false,
     "title": ""
    }
   },
   "outputs": [],
   "source": [
    "delta_table_path = 'dbfs:/FileStore/UberPickUps/bronze_tables/'\n",
    "\n",
    "try:\n",
    "    file_paths = dbutils.fs.ls(delta_table_path)\n",
    "except AnalysisException as e:\n",
    "    print(f\"Error: {e}\")\n",
    "    file_paths = []"
   ]
  },
  {
   "cell_type": "code",
   "execution_count": 0,
   "metadata": {
    "application/vnd.databricks.v1+cell": {
     "cellMetadata": {
      "byteLimit": 2048000,
      "rowLimit": 10000
     },
     "inputWidgets": {},
     "nuid": "bae4d751-f6cd-4e94-aeb1-0ac45297f52d",
     "showTitle": false,
     "title": ""
    }
   },
   "outputs": [],
   "source": [
    "spark.conf.set(\"spark.databricks.delta.formatCheck.enabled\", \"false\")"
   ]
  },
  {
   "cell_type": "code",
   "execution_count": 0,
   "metadata": {
    "application/vnd.databricks.v1+cell": {
     "cellMetadata": {
      "byteLimit": 2048000,
      "rowLimit": 10000
     },
     "inputWidgets": {},
     "nuid": "b735e639-40d2-45fd-9243-bc027e51d1e7",
     "showTitle": false,
     "title": ""
    }
   },
   "outputs": [],
   "source": [
    "directory_path = \"dbfs:/FileStore/UberPickUps/bronze_tables/\"\n",
    "\n",
    "file_paths = [file.path for file in dbutils.fs.ls(directory_path)]\n",
    "\n",
    "dfs = {}\n",
    "\n",
    "for i, file_path in enumerate(file_paths):\n",
    "    if \"_delta_log\" in file_path:\n",
    "        continue\n",
    "    try:\n",
    "        df = spark.read.parquet(file_path)\n",
    "        \n",
    "        category_names = df.select('Category').distinct().rdd.flatMap(lambda x: x).collect()\n",
    "        \n",
    "        for category_name in category_names:\n",
    "            dfs[category_name] = df\n",
    "        \n",
    "    except Exception as e:\n",
    "        print(f\"Error reading table from {file_path}: {e}\")\n",
    " "
   ]
  },
  {
   "cell_type": "code",
   "execution_count": 0,
   "metadata": {
    "application/vnd.databricks.v1+cell": {
     "cellMetadata": {
      "byteLimit": 2048000,
      "rowLimit": 10000
     },
     "inputWidgets": {},
     "nuid": "56f5e288-3a9b-4da8-b2e0-abe07ff8b7e2",
     "showTitle": false,
     "title": ""
    }
   },
   "outputs": [
    {
     "output_type": "stream",
     "name": "stdout",
     "output_type": "stream",
     "text": [
      "Out[6]: 18"
     ]
    }
   ],
   "source": [
    "len(dfs)"
   ]
  },
  {
   "cell_type": "code",
   "execution_count": 0,
   "metadata": {
    "application/vnd.databricks.v1+cell": {
     "cellMetadata": {
      "byteLimit": 2048000,
      "rowLimit": 10000
     },
     "inputWidgets": {},
     "nuid": "dc738c09-d437-4ef8-8fee-ef16d2882625",
     "showTitle": false,
     "title": ""
    }
   },
   "outputs": [
    {
     "output_type": "stream",
     "name": "stdout",
     "output_type": "stream",
     "text": [
      "No of rows '100':\nDataFrame for table 'other_American_B01362':\n+----------+-----------+--------------------+--------------------+\n|      DATE|       Time|     PICK_UP_ADDRESS|            Category|\n+----------+-----------+--------------------+--------------------+\n|07-01-2014|12:00:00 AM| 874 E 139th St M...|other_American_B0...|\n|07-01-2014|12:01:00 AM| 628 E 141st St M...|other_American_B0...|\n+----------+-----------+--------------------+--------------------+\nonly showing top 2 rows\n\nNo of rows '100':\nDataFrame for table 'other_Diplo_B01196':\n+----------+-----------+--------------------+------------------+\n|      Date|       Time|          PU_Address|          Category|\n+----------+-----------+--------------------+------------------+\n|07-01-2014|12:00:00 AM| 2396 Valentine A...|other_Diplo_B01196|\n|07-01-2014|12:01:00 AM| 1859 Walton Ave ...|other_Diplo_B01196|\n+----------+-----------+--------------------+------------------+\nonly showing top 2 rows\n\nNo of rows '100':\nDataFrame for table 'Uber_Jan_Feb_FOIL':\n+-----------------------+----------+---------------+-----+-----------------+\n|dispatching_base_number|      date|active_vehicles|trips|         Category|\n+-----------------------+----------+---------------+-----+-----------------+\n|                 B02512|01-01-2015|            190| 1132|Uber_Jan_Feb_FOIL|\n|                 B02765|01-01-2015|            225| 1765|Uber_Jan_Feb_FOIL|\n+-----------------------+----------+---------------+-----+-----------------+\nonly showing top 2 rows\n\nNo of rows '100':\nDataFrame for table 'other_Firstclass_B01536':\n+----------+-----------+--------------------+--------------------+\n|      DATE|       Time|     PICK_UP_ADDRESS|            Category|\n+----------+-----------+--------------------+--------------------+\n|07-01-2014|12:02:00 AM| 5360 Broadway Ki...|other_Firstclass_...|\n|07-01-2014|12:02:00 AM|    546 Isham St NYC|other_Firstclass_...|\n+----------+-----------+--------------------+--------------------+\nonly showing top 2 rows\n\nNo of rows '100':\nDataFrame for table 'other_Highclass_B01717':\n+----------+-----------+--------------------+--------------------+\n|      DATE|       Time|          PU_Address|            Category|\n+----------+-----------+--------------------+--------------------+\n|07-01-2014|12:00:00 AM| 2976 Marion Ave ...|other_Highclass_B...|\n|07-01-2014|12:01:00 AM| 780 Grand Concou...|other_Highclass_B...|\n+----------+-----------+--------------------+--------------------+\nonly showing top 2 rows\n\nNo of rows '100':\nDataFrame for table 'other_FHV_services_jan_aug_2015':\n+-----------+-------------------+------------+---------------+------------------+--------------------+\n|Base_Number|          Base_Name|Pick_Up_Date|Number_of_Trips|Number_of_Vehicles|            Category|\n+-----------+-------------------+------------+---------------+------------------+--------------------+\n|     B00013|  LOVE CORP CAR INC|  01-01-2015|             26|                17|other_FHV_service...|\n|     B00014|NY ONE CORP CAR INC|  01-01-2015|             45|                24|other_FHV_service...|\n+-----------+-------------------+------------+---------------+------------------+--------------------+\nonly showing top 2 rows\n\nNo of rows '100':\nDataFrame for table 'uber_raw_data_sep14':\n+----------------+-------+--------+------+-------------------+\n|       Date/Time|    Lat|     Lon|  Base|           Category|\n+----------------+-------+--------+------+-------------------+\n|09-01-2014 00:01|40.2201|-74.0021|B02512|uber_raw_data_sep14|\n|09-01-2014 00:01|  40.75|-74.0027|B02512|uber_raw_data_sep14|\n+----------------+-------+--------+------+-------------------+\nonly showing top 2 rows\n\nNo of rows '100':\nDataFrame for table 'uber_raw_data_jul14':\n+----------------+-------+--------+------+-------------------+\n|       Date/Time|    Lat|     Lon|  Base|           Category|\n+----------------+-------+--------+------+-------------------+\n|07-01-2014 00:03|40.7586|-73.9706|B02512|uber_raw_data_jul14|\n|07-01-2014 00:05|40.7605|-73.9994|B02512|uber_raw_data_jul14|\n+----------------+-------+--------+------+-------------------+\nonly showing top 2 rows\n\nNo of rows '100':\nDataFrame for table 'uber_raw_data_apr14':\n+----------------+-------+--------+------+-------------------+\n|       Date/Time|    Lat|     Lon|  Base|           Category|\n+----------------+-------+--------+------+-------------------+\n|04-01-2014 00:11| 40.769|-73.9549|B02512|uber_raw_data_apr14|\n|04-01-2014 00:17|40.7267|-74.0345|B02512|uber_raw_data_apr14|\n+----------------+-------+--------+------+-------------------+\nonly showing top 2 rows\n\nNo of rows '100':\nDataFrame for table 'other_Federal_02216':\n+----------+-------+--------------------+--------------------+--------------------+--------------------+---------+-------------------+\n|      Date|   Time|         PU_Address2|          DO_Address|     Routing_Details|         PU_Address5|   Status|           Category|\n+----------+-------+--------------------+--------------------+--------------------+--------------------+---------+-------------------+\n|07-01-2014|7:15 AM|Brooklyn Museum, ...|1 Brookdale Plaza...|PU: Brooklyn Muse...|Brooklyn Museum, ...|Cancelled|other_Federal_02216|\n|07-01-2014|7:30 AM|33 Robert Dr., Sh...|John F Kennedy In...|PU: 33 Robert Dr....|33 Robert Dr., Sh...|  Arrived|other_Federal_02216|\n+----------+-------+--------------------+--------------------+--------------------+--------------------+---------+-------------------+\nonly showing top 2 rows\n\nNo of rows '100':\nDataFrame for table 'uber_raw_data_aug14':\n+----------------+-------+--------+------+-------------------+\n|       Date/Time|    Lat|     Lon|  Base|           Category|\n+----------------+-------+--------+------+-------------------+\n|08-01-2014 00:03|40.7366|-73.9906|B02512|uber_raw_data_aug14|\n|08-01-2014 00:09| 40.726|-73.9918|B02512|uber_raw_data_aug14|\n+----------------+-------+--------+------+-------------------+\nonly showing top 2 rows\n\nNo of rows '100':\nDataFrame for table 'uber_raw_data_janjune_15':\n+--------------------+----------------+-------------------+----------+--------------------+\n|Dispatching_base_num|     Pickup_date|Affiliated_base_num|locationID|            Category|\n+--------------------+----------------+-------------------+----------+--------------------+\n|              B02617|17-05-2015 09:47|             B02617|       141|uber_raw_data_jan...|\n|              B02617|17-05-2015 09:47|             B02617|        65|uber_raw_data_jan...|\n+--------------------+----------------+-------------------+----------+--------------------+\nonly showing top 2 rows\n\nNo of rows '100':\nDataFrame for table 'uber_raw_data_may14':\n+----------------+-------+--------+------+-------------------+\n|       Date/Time|    Lat|     Lon|  Base|           Category|\n+----------------+-------+--------+------+-------------------+\n|05-01-2014 00:02|40.7521|-73.9914|B02512|uber_raw_data_may14|\n|05-01-2014 00:06|40.6965|-73.9715|B02512|uber_raw_data_may14|\n+----------------+-------+--------+------+-------------------+\nonly showing top 2 rows\n\nNo of rows '100':\nDataFrame for table 'other_Lyft_B02510':\n+----------------+---------+---------+-----------------+\n|    time_of_trip|start_lat|start_lng|         Category|\n+----------------+---------+---------+-----------------+\n|09-04-2014 09:51| 40.64705|-73.77988|other_Lyft_B02510|\n| 8/27/2014 21:13| 40.74916|-73.98373|other_Lyft_B02510|\n+----------------+---------+---------+-----------------+\nonly showing top 2 rows\n\nNo of rows '100':\nDataFrame for table 'uber_raw_data_jun14':\n+----------------+-------+--------+------+-------------------+\n|       Date/Time|    Lat|     Lon|  Base|           Category|\n+----------------+-------+--------+------+-------------------+\n|06-01-2014 00:00|40.7293| -73.992|B02512|uber_raw_data_jun14|\n|06-01-2014 00:01|40.7131|-74.0097|B02512|uber_raw_data_jun14|\n+----------------+-------+--------+------+-------------------+\nonly showing top 2 rows\n\nNo of rows '100':\nDataFrame for table 'other_Skyline_B00111':\n+----------+-------------------+--------------+----------+--------------------+\n|      Date|               Time|Street_Address|City_State|            Category|\n+----------+-------------------+--------------+----------+--------------------+\n|07-01-2014|2024-06-03 20:27:00|  622 THIRD AV|      M   |other_Skyline_B00111|\n|07-01-2014|2024-06-03 21:04:00|   E 77TH ST  |      M   |other_Skyline_B00111|\n+----------+-------------------+--------------+----------+--------------------+\nonly showing top 2 rows\n\nNo of rows '100':\nDataFrame for table 'other_Prestige_B01338':\n+----------+-----------+--------------------+--------------------+\n|      DATE|       Time|     PICK_UP_ADDRESS|            Category|\n+----------+-----------+--------------------+--------------------+\n|07-01-2014|12:00:00 AM| 2557 Marion Ave ...|other_Prestige_B0...|\n|07-01-2014|12:00:00 AM| 45 E Mosholu Pkw...|other_Prestige_B0...|\n+----------+-----------+--------------------+--------------------+\nonly showing top 2 rows\n\nNo of rows '100':\nDataFrame for table 'other_Carmel_B00256':\n+----------+-------------------+---------------+-------+-------------------+\n|      Date|               Time|      PU_Adress|Base_No|           Category|\n+----------+-------------------+---------------+-------+-------------------+\n|07-01-2014|2024-06-03 00:00:00|260 W 44 St NYC| B00256|other_Carmel_B00256|\n|07-01-2014|2024-06-03 00:00:00|125 W 29 St Nyc| B00256|other_Carmel_B00256|\n+----------+-------------------+---------------+-------+-------------------+\nonly showing top 2 rows\n\n"
     ]
    }
   ],
   "source": [
    "for table_name, df in dfs.items():\n",
    "    print(f\"No of rows '{df.count()}':\")\n",
    "    print(f\"DataFrame for table '{table_name}':\")\n",
    "    df.show(2) "
   ]
  },
  {
   "cell_type": "code",
   "execution_count": 0,
   "metadata": {
    "application/vnd.databricks.v1+cell": {
     "cellMetadata": {},
     "inputWidgets": {},
     "nuid": "b8779021-1007-4ac3-982b-262955502cf6",
     "showTitle": false,
     "title": ""
    }
   },
   "outputs": [],
   "source": []
  }
 ],
 "metadata": {
  "application/vnd.databricks.v1+notebook": {
   "dashboards": [],
   "environmentMetadata": null,
   "language": "python",
   "notebookMetadata": {
    "pythonIndentUnit": 4
   },
   "notebookName": "Reading Silver Dataframes",
   "widgets": {}
  }
 },
 "nbformat": 4,
 "nbformat_minor": 0
}
