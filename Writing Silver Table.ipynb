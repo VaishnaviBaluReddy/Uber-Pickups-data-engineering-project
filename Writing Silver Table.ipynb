{
 "cells": [
  {
   "cell_type": "code",
   "execution_count": 0,
   "metadata": {
    "application/vnd.databricks.v1+cell": {
     "cellMetadata": {
      "byteLimit": 2048000,
      "rowLimit": 10000
     },
     "inputWidgets": {},
     "nuid": "7429938d-e8dc-4073-aa40-a5b86869be00",
     "showTitle": false,
     "title": ""
    }
   },
   "outputs": [],
   "source": [
    "from pyspark.sql.types import *\n",
    "from pyspark.sql import DataFrame\n",
    "from functools import reduce\n",
    "from pyspark.sql.functions import *\n",
    "from pyspark.sql import functions as F\n",
    "from pyspark.sql import *"
   ]
  },
  {
   "cell_type": "code",
   "execution_count": 0,
   "metadata": {
    "application/vnd.databricks.v1+cell": {
     "cellMetadata": {
      "byteLimit": 2048000,
      "rowLimit": 10000
     },
     "collapsed": true,
     "inputWidgets": {},
     "nuid": "d65f95a3-aa88-4ca3-ade5-1ec0257a23b5",
     "showTitle": false,
     "title": ""
    }
   },
   "outputs": [
    {
     "output_type": "stream",
     "name": "stdout",
     "output_type": "stream",
     "text": [
      "Python interpreter will be restarted.\nCollecting geopy\n  Using cached geopy-2.4.1-py3-none-any.whl (125 kB)\nCollecting geographiclib<3,>=1.52\n  Using cached geographiclib-2.0-py3-none-any.whl (40 kB)\nInstalling collected packages: geographiclib, geopy\nSuccessfully installed geographiclib-2.0 geopy-2.4.1\nPython interpreter will be restarted.\n"
     ]
    },
    {
     "output_type": "stream",
     "name": "stdout",
     "output_type": "stream",
     "text": [
      "Out[6]: [FileInfo(path='dbfs:/FileStore/UberPickUps/bronze_tables/_delta_log/', name='_delta_log/', size=0, modificationTime=0),\n FileInfo(path='dbfs:/FileStore/UberPickUps/bronze_tables/part-00000-0131bf55-5c04-4831-84ca-e2ea4680ed5a-c000.snappy.parquet', name='part-00000-0131bf55-5c04-4831-84ca-e2ea4680ed5a-c000.snappy.parquet', size=4053, modificationTime=1715742593000),\n FileInfo(path='dbfs:/FileStore/UberPickUps/bronze_tables/part-00000-070de65d-6db2-4448-af6a-c58a0af94205-c000.snappy.parquet', name='part-00000-070de65d-6db2-4448-af6a-c58a0af94205-c000.snappy.parquet', size=3998, modificationTime=1715742621000),\n FileInfo(path='dbfs:/FileStore/UberPickUps/bronze_tables/part-00000-1c9ce1f2-fe57-4a29-8267-ca07c8b8182a-c000.snappy.parquet', name='part-00000-1c9ce1f2-fe57-4a29-8267-ca07c8b8182a-c000.snappy.parquet', size=3675, modificationTime=1715742562000),\n FileInfo(path='dbfs:/FileStore/UberPickUps/bronze_tables/part-00000-2620d1a1-255a-42a0-960a-d84c4770e0ed-c000.snappy.parquet', name='part-00000-2620d1a1-255a-42a0-960a-d84c4770e0ed-c000.snappy.parquet', size=3622, modificationTime=1715742534000),\n FileInfo(path='dbfs:/FileStore/UberPickUps/bronze_tables/part-00000-30eb4602-e800-47f9-9806-067a7eca3f5a-c000.snappy.parquet', name='part-00000-30eb4602-e800-47f9-9806-067a7eca3f5a-c000.snappy.parquet', size=4070, modificationTime=1715742572000),\n FileInfo(path='dbfs:/FileStore/UberPickUps/bronze_tables/part-00000-42b2797d-29a6-4c03-a1bb-14e4b92045ca-c000.snappy.parquet', name='part-00000-42b2797d-29a6-4c03-a1bb-14e4b92045ca-c000.snappy.parquet', size=3772, modificationTime=1715742540000),\n FileInfo(path='dbfs:/FileStore/UberPickUps/bronze_tables/part-00000-57d6681f-6bb1-484e-bd37-607f20ad8ad3-c000.snappy.parquet', name='part-00000-57d6681f-6bb1-484e-bd37-607f20ad8ad3-c000.snappy.parquet', size=4003, modificationTime=1715742642000),\n FileInfo(path='dbfs:/FileStore/UberPickUps/bronze_tables/part-00000-838d41b9-7c94-4460-9788-379c1386c5a8-c000.snappy.parquet', name='part-00000-838d41b9-7c94-4460-9788-379c1386c5a8-c000.snappy.parquet', size=3839, modificationTime=1715742546000),\n FileInfo(path='dbfs:/FileStore/UberPickUps/bronze_tables/part-00000-84be1a23-dc72-4be2-b86b-17e541612924-c000.snappy.parquet', name='part-00000-84be1a23-dc72-4be2-b86b-17e541612924-c000.snappy.parquet', size=3968, modificationTime=1715742629000),\n FileInfo(path='dbfs:/FileStore/UberPickUps/bronze_tables/part-00000-aff5eaa6-d9e4-44d4-a51f-339d882b27bd-c000.snappy.parquet', name='part-00000-aff5eaa6-d9e4-44d4-a51f-339d882b27bd-c000.snappy.parquet', size=2875, modificationTime=1715742526000),\n FileInfo(path='dbfs:/FileStore/UberPickUps/bronze_tables/part-00000-c4a080c8-0cf6-4dac-8dbf-c308f523fcc6-c000.snappy.parquet', name='part-00000-c4a080c8-0cf6-4dac-8dbf-c308f523fcc6-c000.snappy.parquet', size=4751, modificationTime=1715742552000),\n FileInfo(path='dbfs:/FileStore/UberPickUps/bronze_tables/part-00000-c4d444c1-3015-4213-b450-35443fba2656-c000.snappy.parquet', name='part-00000-c4d444c1-3015-4213-b450-35443fba2656-c000.snappy.parquet', size=4053, modificationTime=1715742636000),\n FileInfo(path='dbfs:/FileStore/UberPickUps/bronze_tables/part-00000-cbd63841-20e4-4304-87ab-8c110dd93c87-c000.snappy.parquet', name='part-00000-cbd63841-20e4-4304-87ab-8c110dd93c87-c000.snappy.parquet', size=3980, modificationTime=1715742567000),\n FileInfo(path='dbfs:/FileStore/UberPickUps/bronze_tables/part-00000-e4b1ab2c-2727-47be-a314-3dba52f09ac5-c000.snappy.parquet', name='part-00000-e4b1ab2c-2727-47be-a314-3dba52f09ac5-c000.snappy.parquet', size=12567, modificationTime=1715742557000),\n FileInfo(path='dbfs:/FileStore/UberPickUps/bronze_tables/part-00000-e7731a6d-ed1d-4724-957e-afd6166fa561-c000.snappy.parquet', name='part-00000-e7731a6d-ed1d-4724-957e-afd6166fa561-c000.snappy.parquet', size=4129, modificationTime=1715742583000),\n FileInfo(path='dbfs:/FileStore/UberPickUps/bronze_tables/part-00000-ec828338-dca9-45da-89f9-4db1ebbd0fc3-c000.snappy.parquet', name='part-00000-ec828338-dca9-45da-89f9-4db1ebbd0fc3-c000.snappy.parquet', size=2592, modificationTime=1715742611000),\n FileInfo(path='dbfs:/FileStore/UberPickUps/bronze_tables/part-00000-fb3f27fa-230a-48c4-9cad-ebc021b1e700-c000.snappy.parquet', name='part-00000-fb3f27fa-230a-48c4-9cad-ebc021b1e700-c000.snappy.parquet', size=4113, modificationTime=1715742577000),\n FileInfo(path='dbfs:/FileStore/UberPickUps/bronze_tables/part-00000-ff93b3e7-7bb5-41a9-9a6e-1369fc6870f7-c000.snappy.parquet', name='part-00000-ff93b3e7-7bb5-41a9-9a6e-1369fc6870f7-c000.snappy.parquet', size=3963, modificationTime=1715742603000)]"
     ]
    },
    {
     "output_type": "stream",
     "name": "stdout",
     "output_type": "stream",
     "text": [
      "Out[7]: False"
     ]
    },
    {
     "output_type": "stream",
     "name": "stdout",
     "output_type": "stream",
     "text": [
      "File paths:\ndbfs:/FileStore/UberPickUps/bronze_tables/_delta_log/\ndbfs:/FileStore/UberPickUps/bronze_tables/part-00000-0131bf55-5c04-4831-84ca-e2ea4680ed5a-c000.snappy.parquet\ndbfs:/FileStore/UberPickUps/bronze_tables/part-00000-070de65d-6db2-4448-af6a-c58a0af94205-c000.snappy.parquet\ndbfs:/FileStore/UberPickUps/bronze_tables/part-00000-1c9ce1f2-fe57-4a29-8267-ca07c8b8182a-c000.snappy.parquet\ndbfs:/FileStore/UberPickUps/bronze_tables/part-00000-2620d1a1-255a-42a0-960a-d84c4770e0ed-c000.snappy.parquet\ndbfs:/FileStore/UberPickUps/bronze_tables/part-00000-30eb4602-e800-47f9-9806-067a7eca3f5a-c000.snappy.parquet\ndbfs:/FileStore/UberPickUps/bronze_tables/part-00000-42b2797d-29a6-4c03-a1bb-14e4b92045ca-c000.snappy.parquet\ndbfs:/FileStore/UberPickUps/bronze_tables/part-00000-57d6681f-6bb1-484e-bd37-607f20ad8ad3-c000.snappy.parquet\ndbfs:/FileStore/UberPickUps/bronze_tables/part-00000-838d41b9-7c94-4460-9788-379c1386c5a8-c000.snappy.parquet\ndbfs:/FileStore/UberPickUps/bronze_tables/part-00000-84be1a23-dc72-4be2-b86b-17e541612924-c000.snappy.parquet\ndbfs:/FileStore/UberPickUps/bronze_tables/part-00000-aff5eaa6-d9e4-44d4-a51f-339d882b27bd-c000.snappy.parquet\ndbfs:/FileStore/UberPickUps/bronze_tables/part-00000-c4a080c8-0cf6-4dac-8dbf-c308f523fcc6-c000.snappy.parquet\ndbfs:/FileStore/UberPickUps/bronze_tables/part-00000-c4d444c1-3015-4213-b450-35443fba2656-c000.snappy.parquet\ndbfs:/FileStore/UberPickUps/bronze_tables/part-00000-cbd63841-20e4-4304-87ab-8c110dd93c87-c000.snappy.parquet\ndbfs:/FileStore/UberPickUps/bronze_tables/part-00000-e4b1ab2c-2727-47be-a314-3dba52f09ac5-c000.snappy.parquet\ndbfs:/FileStore/UberPickUps/bronze_tables/part-00000-e7731a6d-ed1d-4724-957e-afd6166fa561-c000.snappy.parquet\ndbfs:/FileStore/UberPickUps/bronze_tables/part-00000-ec828338-dca9-45da-89f9-4db1ebbd0fc3-c000.snappy.parquet\ndbfs:/FileStore/UberPickUps/bronze_tables/part-00000-fb3f27fa-230a-48c4-9cad-ebc021b1e700-c000.snappy.parquet\ndbfs:/FileStore/UberPickUps/bronze_tables/part-00000-ff93b3e7-7bb5-41a9-9a6e-1369fc6870f7-c000.snappy.parquet\n"
     ]
    },
    {
     "output_type": "stream",
     "name": "stdout",
     "output_type": "stream",
     "text": [
      "No of rows '100':\nDataFrame for table 'uber_raw_data_apr14':\n+----------------+-------+--------+------+-------------------+\n|       Date/Time|    Lat|     Lon|  Base|           Category|\n+----------------+-------+--------+------+-------------------+\n|04-01-2014 00:11| 40.769|-73.9549|B02512|uber_raw_data_apr14|\n|04-01-2014 00:17|40.7267|-74.0345|B02512|uber_raw_data_apr14|\n|04-01-2014 00:21|40.7316|-73.9873|B02512|uber_raw_data_apr14|\n|04-01-2014 00:28|40.7588|-73.9776|B02512|uber_raw_data_apr14|\n|04-01-2014 00:33|40.7594|-73.9722|B02512|uber_raw_data_apr14|\n+----------------+-------+--------+------+-------------------+\nonly showing top 5 rows\n\nNo of rows '100':\nDataFrame for table 'uber_raw_data_jul14':\n+----------------+-------+--------+------+-------------------+\n|       Date/Time|    Lat|     Lon|  Base|           Category|\n+----------------+-------+--------+------+-------------------+\n|07-01-2014 00:03|40.7586|-73.9706|B02512|uber_raw_data_jul14|\n|07-01-2014 00:05|40.7605|-73.9994|B02512|uber_raw_data_jul14|\n|07-01-2014 00:06| 40.732|-73.9999|B02512|uber_raw_data_jul14|\n|07-01-2014 00:09|40.7635|-73.9793|B02512|uber_raw_data_jul14|\n|07-01-2014 00:20|40.7204|-74.0047|B02512|uber_raw_data_jul14|\n+----------------+-------+--------+------+-------------------+\nonly showing top 5 rows\n\nNo of rows '100':\nDataFrame for table 'other_Firstclass_B01536':\n+----------+-----------+--------------------+--------------------+\n|      DATE|       Time|     PICK_UP_ADDRESS|            Category|\n+----------+-----------+--------------------+--------------------+\n|07-01-2014|12:02:00 AM| 5360 Broadway Ki...|other_Firstclass_...|\n|07-01-2014|12:02:00 AM|    546 Isham St NYC|other_Firstclass_...|\n|07-01-2014|12:03:00 AM| 234 Bradhurst Av...|other_Firstclass_...|\n|07-01-2014|12:07:00 AM| 99 Marble Hill A...|other_Firstclass_...|\n|07-01-2014|12:08:00 AM| 120 Vermilyea Av...|other_Firstclass_...|\n+----------+-----------+--------------------+--------------------+\nonly showing top 5 rows\n\nNo of rows '100':\nDataFrame for table 'other_American_B01362':\n+----------+-----------+--------------------+--------------------+\n|      DATE|       Time|     PICK_UP_ADDRESS|            Category|\n+----------+-----------+--------------------+--------------------+\n|07-01-2014|12:00:00 AM| 874 E 139th St M...|other_American_B0...|\n|07-01-2014|12:01:00 AM| 628 E 141st St M...|other_American_B0...|\n|07-01-2014|12:01:00 AM| 601 E 156th St S...|other_American_B0...|\n|07-01-2014|12:01:00 AM| 708 E 138th St M...|other_American_B0...|\n|07-01-2014|12:02:00 AM| 700 E 140th St M...|other_American_B0...|\n+----------+-----------+--------------------+--------------------+\nonly showing top 5 rows\n\nNo of rows '100':\nDataFrame for table 'other_Lyft_B02510':\n+----------------+---------+---------+-----------------+\n|    time_of_trip|start_lat|start_lng|         Category|\n+----------------+---------+---------+-----------------+\n|09-04-2014 09:51| 40.64705|-73.77988|other_Lyft_B02510|\n| 8/27/2014 21:13| 40.74916|-73.98373|other_Lyft_B02510|\n|09-04-2014 14:16| 40.64065|-73.97594|other_Lyft_B02510|\n|09-04-2014 16:08| 40.75002|-73.99514|other_Lyft_B02510|\n|  8/28/2014 2:41| 40.76715|-73.98636|other_Lyft_B02510|\n+----------------+---------+---------+-----------------+\nonly showing top 5 rows\n\nNo of rows '100':\nDataFrame for table 'other_Carmel_B00256':\n+----------+-------------------+---------------+-------+-------------------+\n|      Date|               Time|      PU_Adress|Base_No|           Category|\n+----------+-------------------+---------------+-------+-------------------+\n|07-01-2014|2024-05-15 00:00:00|260 W 44 St NYC| B00256|other_Carmel_B00256|\n|07-01-2014|2024-05-15 00:00:00|125 W 29 St Nyc| B00256|other_Carmel_B00256|\n|07-01-2014|2024-05-15 00:00:00|141 W 28 St Nyc| B00256|other_Carmel_B00256|\n|07-01-2014|2024-05-15 00:01:00|            EWR| B00256|other_Carmel_B00256|\n|07-01-2014|2024-05-15 00:07:00|            JFK| B00256|other_Carmel_B00256|\n+----------+-------------------+---------------+-------+-------------------+\nonly showing top 5 rows\n\nNo of rows '100':\nDataFrame for table 'uber_raw_data_jun14':\n+----------------+-------+--------+------+-------------------+\n|       Date/Time|    Lat|     Lon|  Base|           Category|\n+----------------+-------+--------+------+-------------------+\n|06-01-2014 00:00|40.7293| -73.992|B02512|uber_raw_data_jun14|\n|06-01-2014 00:01|40.7131|-74.0097|B02512|uber_raw_data_jun14|\n|06-01-2014 00:04|40.3461| -74.661|B02512|uber_raw_data_jun14|\n|06-01-2014 00:04|40.7555|-73.9833|B02512|uber_raw_data_jun14|\n|06-01-2014 00:07| 40.688|-74.1831|B02512|uber_raw_data_jun14|\n+----------------+-------+--------+------+-------------------+\nonly showing top 5 rows\n\nNo of rows '100':\nDataFrame for table 'other_Diplo_B01196':\n+----------+-----------+--------------------+------------------+\n|      Date|       Time|          PU_Address|          Category|\n+----------+-----------+--------------------+------------------+\n|07-01-2014|12:00:00 AM| 2396 Valentine A...|other_Diplo_B01196|\n|07-01-2014|12:01:00 AM| 1859 Walton Ave ...|other_Diplo_B01196|\n|07-01-2014|12:02:00 AM| 2431 Jerome Ave ...|other_Diplo_B01196|\n|07-01-2014|12:05:00 AM| 3044 Valentine A...|other_Diplo_B01196|\n|07-01-2014|12:05:00 AM| 1085 Nelson Ave ...|other_Diplo_B01196|\n+----------+-----------+--------------------+------------------+\nonly showing top 5 rows\n\nNo of rows '100':\nDataFrame for table 'uber_raw_data_may14':\n+----------------+-------+--------+------+-------------------+\n|       Date/Time|    Lat|     Lon|  Base|           Category|\n+----------------+-------+--------+------+-------------------+\n|05-01-2014 00:02|40.7521|-73.9914|B02512|uber_raw_data_may14|\n|05-01-2014 00:06|40.6965|-73.9715|B02512|uber_raw_data_may14|\n|05-01-2014 00:15|40.7464|-73.9838|B02512|uber_raw_data_may14|\n|05-01-2014 00:17|40.7463|-74.0011|B02512|uber_raw_data_may14|\n|05-01-2014 00:17|40.7594|-73.9734|B02512|uber_raw_data_may14|\n+----------------+-------+--------+------+-------------------+\nonly showing top 5 rows\n\nNo of rows '100':\nDataFrame for table 'Uber_Jan_Feb_FOIL':\n+-----------------------+----------+---------------+-----+-----------------+\n|dispatching_base_number|      date|active_vehicles|trips|         Category|\n+-----------------------+----------+---------------+-----+-----------------+\n|                 B02512|01-01-2015|            190| 1132|Uber_Jan_Feb_FOIL|\n|                 B02765|01-01-2015|            225| 1765|Uber_Jan_Feb_FOIL|\n|                 B02764|01-01-2015|           3427|29421|Uber_Jan_Feb_FOIL|\n|                 B02682|01-01-2015|            945| 7679|Uber_Jan_Feb_FOIL|\n|                 B02617|01-01-2015|           1228| 9537|Uber_Jan_Feb_FOIL|\n+-----------------------+----------+---------------+-----+-----------------+\nonly showing top 5 rows\n\nNo of rows '100':\nDataFrame for table 'other_FHV_services_jan_aug_2015':\n+-----------+--------------------+------------+---------------+------------------+--------------------+\n|Base_Number|           Base_Name|Pick_Up_Date|Number_of_Trips|Number_of_Vehicles|            Category|\n+-----------+--------------------+------------+---------------+------------------+--------------------+\n|     B00013|   LOVE CORP CAR INC|  01-01-2015|             26|                17|other_FHV_service...|\n|     B00014| NY ONE CORP CAR INC|  01-01-2015|             45|                24|other_FHV_service...|\n|     B00029|COMMUNITY CAR SVC...|  01-01-2015|            731|                36|other_FHV_service...|\n|     B00053| CHARGE AND RIDE INC|  01-01-2015|             10|                 9|other_FHV_service...|\n|     B00095|LIBERTY CAR SERVI...|  01-01-2015|            814|                62|other_FHV_service...|\n+-----------+--------------------+------------+---------------+------------------+--------------------+\nonly showing top 5 rows\n\nNo of rows '100':\nDataFrame for table 'uber_raw_data_sep14':\n+----------------+-------+--------+------+-------------------+\n|       Date/Time|    Lat|     Lon|  Base|           Category|\n+----------------+-------+--------+------+-------------------+\n|09-01-2014 00:01|40.2201|-74.0021|B02512|uber_raw_data_sep14|\n|09-01-2014 00:01|  40.75|-74.0027|B02512|uber_raw_data_sep14|\n|09-01-2014 00:03|40.7559|-73.9864|B02512|uber_raw_data_sep14|\n|09-01-2014 00:06| 40.745|-73.9889|B02512|uber_raw_data_sep14|\n|09-01-2014 00:11|40.8145|-73.9444|B02512|uber_raw_data_sep14|\n+----------------+-------+--------+------+-------------------+\nonly showing top 5 rows\n\nNo of rows '100':\nDataFrame for table 'other_Highclass_B01717':\n+----------+-----------+--------------------+--------------------+\n|      DATE|       Time|          PU_Address|            Category|\n+----------+-----------+--------------------+--------------------+\n|07-01-2014|12:00:00 AM| 2976 Marion Ave ...|other_Highclass_B...|\n|07-01-2014|12:01:00 AM| 780 Grand Concou...|other_Highclass_B...|\n|07-01-2014|12:01:00 AM| 105 Elliot Pl Hi...|other_Highclass_B...|\n|07-01-2014|12:03:00 AM| 2825 Webb Ave Bronx|other_Highclass_B...|\n|07-01-2014|12:04:00 AM| 1878 Cedar Ave M...|other_Highclass_B...|\n+----------+-----------+--------------------+--------------------+\nonly showing top 5 rows\n\nNo of rows '100':\nDataFrame for table 'other_Federal_02216':\n+----------+-------+--------------------+--------------------+--------------------+--------------------+---------+-------------------+\n|      Date|   Time|         PU_Address2|          DO_Address|     Routing_Details|         PU_Address5|   Status|           Category|\n+----------+-------+--------------------+--------------------+--------------------+--------------------+---------+-------------------+\n|07-01-2014|7:15 AM|Brooklyn Museum, ...|1 Brookdale Plaza...|PU: Brooklyn Muse...|Brooklyn Museum, ...|Cancelled|other_Federal_02216|\n|07-01-2014|7:30 AM|33 Robert Dr., Sh...|John F Kennedy In...|PU: 33 Robert Dr....|33 Robert Dr., Sh...|  Arrived|other_Federal_02216|\n|07-01-2014|8:00 AM|60 Glenmore Ave.,...|2171 Nostrand Ave...|PU: 60 Glenmore A...|60 Glenmore Ave.,...| Assigned|other_Federal_02216|\n|07-01-2014|9:00 AM|128 East 31 St., ...|369 93rd St., BK ...|PU: 128 East 31 S...|128 East 31 St., ...| Assigned|other_Federal_02216|\n|07-01-2014|9:30 AM|139-39 35 Ave., F...|La Guardia Airport; |PU: 139-39 35 Ave...|139-39 35 Ave., F...| Assigned|other_Federal_02216|\n+----------+-------+--------------------+--------------------+--------------------+--------------------+---------+-------------------+\nonly showing top 5 rows\n\nNo of rows '100':\nDataFrame for table 'other_Skyline_B00111':\n+----------+-------------------+--------------------+-----------------+--------------------+\n|      Date|               Time|      Street_Address|       City_State|            Category|\n+----------+-------------------+--------------------+-----------------+--------------------+\n|07-01-2014|2024-05-15 20:27:00|        622 THIRD AV|             M   |other_Skyline_B00111|\n|07-01-2014|2024-05-15 21:04:00|         E 77TH ST  |             M   |other_Skyline_B00111|\n|07-01-2014|2024-05-15 22:20:00|67 WEST PALISADES...|PALISADES PARK NJ|other_Skyline_B00111|\n|07-01-2014|2024-05-15 12:28:00|130 MIDDLE NECK RD  |SANDS POINT LI   |other_Skyline_B00111|\n|07-01-2014|2024-05-15 16:45:00|        36 E 31ST ST|             M   |other_Skyline_B00111|\n+----------+-------------------+--------------------+-----------------+--------------------+\nonly showing top 5 rows\n\nNo of rows '100':\nDataFrame for table 'uber_raw_data_janjune_15':\n+--------------------+----------------+-------------------+----------+--------------------+\n|Dispatching_base_num|     Pickup_date|Affiliated_base_num|locationID|            Category|\n+--------------------+----------------+-------------------+----------+--------------------+\n|              B02617|17-05-2015 09:47|             B02617|       141|uber_raw_data_jan...|\n|              B02617|17-05-2015 09:47|             B02617|        65|uber_raw_data_jan...|\n|              B02617|17-05-2015 09:47|             B02617|       100|uber_raw_data_jan...|\n|              B02617|17-05-2015 09:47|             B02774|        80|uber_raw_data_jan...|\n|              B02617|17-05-2015 09:47|             B02617|        90|uber_raw_data_jan...|\n+--------------------+----------------+-------------------+----------+--------------------+\nonly showing top 5 rows\n\nNo of rows '100':\nDataFrame for table 'other_Prestige_B01338':\n+----------+-----------+--------------------+--------------------+\n|      DATE|       Time|     PICK_UP_ADDRESS|            Category|\n+----------+-----------+--------------------+--------------------+\n|07-01-2014|12:00:00 AM| 2557 Marion Ave ...|other_Prestige_B0...|\n|07-01-2014|12:00:00 AM| 45 E Mosholu Pkw...|other_Prestige_B0...|\n|07-01-2014|12:00:00 AM| 458 E 143rd St M...|other_Prestige_B0...|\n|07-01-2014|12:02:00 AM|MINIVAN SUV 2557 ...|other_Prestige_B0...|\n|07-01-2014|12:02:00 AM| 1117 Westchester...|other_Prestige_B0...|\n+----------+-----------+--------------------+--------------------+\nonly showing top 5 rows\n\nNo of rows '100':\nDataFrame for table 'uber_raw_data_aug14':\n+----------------+-------+--------+------+-------------------+\n|       Date/Time|    Lat|     Lon|  Base|           Category|\n+----------------+-------+--------+------+-------------------+\n|08-01-2014 00:03|40.7366|-73.9906|B02512|uber_raw_data_aug14|\n|08-01-2014 00:09| 40.726|-73.9918|B02512|uber_raw_data_aug14|\n|08-01-2014 00:12|40.7209|-74.0507|B02512|uber_raw_data_aug14|\n|08-01-2014 00:12|40.7387|-73.9856|B02512|uber_raw_data_aug14|\n|08-01-2014 00:12|40.7323|-74.0077|B02512|uber_raw_data_aug14|\n+----------------+-------+--------+------+-------------------+\nonly showing top 5 rows\n\n"
     ]
    },
    {
     "output_type": "stream",
     "name": "stdout",
     "output_type": "stream",
     "text": [
      "Out[11]: 18"
     ]
    },
    {
     "output_type": "stream",
     "name": "stdout",
     "output_type": "stream",
     "text": [
      "No of rows '100':\nDataFrame for table 'uber_raw_data_apr14':\n+----------------+-------+--------+------+-------------------+\n|       Date/Time|    Lat|     Lon|  Base|           Category|\n+----------------+-------+--------+------+-------------------+\n|04-01-2014 00:11| 40.769|-73.9549|B02512|uber_raw_data_apr14|\n|04-01-2014 00:17|40.7267|-74.0345|B02512|uber_raw_data_apr14|\n|04-01-2014 00:21|40.7316|-73.9873|B02512|uber_raw_data_apr14|\n|04-01-2014 00:28|40.7588|-73.9776|B02512|uber_raw_data_apr14|\n|04-01-2014 00:33|40.7594|-73.9722|B02512|uber_raw_data_apr14|\n+----------------+-------+--------+------+-------------------+\nonly showing top 5 rows\n\nNo of rows '100':\nDataFrame for table 'uber_raw_data_jul14':\n+----------------+-------+--------+------+-------------------+\n|       Date/Time|    Lat|     Lon|  Base|           Category|\n+----------------+-------+--------+------+-------------------+\n|07-01-2014 00:03|40.7586|-73.9706|B02512|uber_raw_data_jul14|\n|07-01-2014 00:05|40.7605|-73.9994|B02512|uber_raw_data_jul14|\n|07-01-2014 00:06| 40.732|-73.9999|B02512|uber_raw_data_jul14|\n|07-01-2014 00:09|40.7635|-73.9793|B02512|uber_raw_data_jul14|\n|07-01-2014 00:20|40.7204|-74.0047|B02512|uber_raw_data_jul14|\n+----------------+-------+--------+------+-------------------+\nonly showing top 5 rows\n\nNo of rows '100':\nDataFrame for table 'other_Firstclass_B01536':\n+----------+-----------+--------------------+--------------------+\n|      DATE|       Time|     PICK_UP_ADDRESS|            Category|\n+----------+-----------+--------------------+--------------------+\n|07-01-2014|12:02:00 AM| 5360 Broadway Ki...|other_Firstclass_...|\n|07-01-2014|12:02:00 AM|    546 Isham St NYC|other_Firstclass_...|\n|07-01-2014|12:03:00 AM| 234 Bradhurst Av...|other_Firstclass_...|\n|07-01-2014|12:07:00 AM| 99 Marble Hill A...|other_Firstclass_...|\n|07-01-2014|12:08:00 AM| 120 Vermilyea Av...|other_Firstclass_...|\n+----------+-----------+--------------------+--------------------+\nonly showing top 5 rows\n\nNo of rows '100':\nDataFrame for table 'other_American_B01362':\n+----------+-----------+--------------------+--------------------+\n|      DATE|       Time|     PICK_UP_ADDRESS|            Category|\n+----------+-----------+--------------------+--------------------+\n|07-01-2014|12:00:00 AM| 874 E 139th St M...|other_American_B0...|\n|07-01-2014|12:01:00 AM| 628 E 141st St M...|other_American_B0...|\n|07-01-2014|12:01:00 AM| 601 E 156th St S...|other_American_B0...|\n|07-01-2014|12:01:00 AM| 708 E 138th St M...|other_American_B0...|\n|07-01-2014|12:02:00 AM| 700 E 140th St M...|other_American_B0...|\n+----------+-----------+--------------------+--------------------+\nonly showing top 5 rows\n\nNo of rows '100':\nDataFrame for table 'other_Lyft_B02510':\n+----------------+---------+---------+-----------------+\n|    time_of_trip|start_lat|start_lng|         Category|\n+----------------+---------+---------+-----------------+\n|09-04-2014 09:51| 40.64705|-73.77988|other_Lyft_B02510|\n| 8/27/2014 21:13| 40.74916|-73.98373|other_Lyft_B02510|\n|09-04-2014 14:16| 40.64065|-73.97594|other_Lyft_B02510|\n|09-04-2014 16:08| 40.75002|-73.99514|other_Lyft_B02510|\n|  8/28/2014 2:41| 40.76715|-73.98636|other_Lyft_B02510|\n+----------------+---------+---------+-----------------+\nonly showing top 5 rows\n\nNo of rows '100':\nDataFrame for table 'other_Carmel_B00256':\n+----------+-------------------+---------------+-------+-------------------+\n|      Date|               Time|      PU_Adress|Base_No|           Category|\n+----------+-------------------+---------------+-------+-------------------+\n|07-01-2014|2024-05-15 00:00:00|260 W 44 St NYC| B00256|other_Carmel_B00256|\n|07-01-2014|2024-05-15 00:00:00|125 W 29 St Nyc| B00256|other_Carmel_B00256|\n|07-01-2014|2024-05-15 00:00:00|141 W 28 St Nyc| B00256|other_Carmel_B00256|\n|07-01-2014|2024-05-15 00:01:00|            EWR| B00256|other_Carmel_B00256|\n|07-01-2014|2024-05-15 00:07:00|            JFK| B00256|other_Carmel_B00256|\n+----------+-------------------+---------------+-------+-------------------+\nonly showing top 5 rows\n\nNo of rows '100':\nDataFrame for table 'uber_raw_data_jun14':\n+----------------+-------+--------+------+-------------------+\n|       Date/Time|    Lat|     Lon|  Base|           Category|\n+----------------+-------+--------+------+-------------------+\n|06-01-2014 00:00|40.7293| -73.992|B02512|uber_raw_data_jun14|\n|06-01-2014 00:01|40.7131|-74.0097|B02512|uber_raw_data_jun14|\n|06-01-2014 00:04|40.3461| -74.661|B02512|uber_raw_data_jun14|\n|06-01-2014 00:04|40.7555|-73.9833|B02512|uber_raw_data_jun14|\n|06-01-2014 00:07| 40.688|-74.1831|B02512|uber_raw_data_jun14|\n+----------------+-------+--------+------+-------------------+\nonly showing top 5 rows\n\nNo of rows '100':\nDataFrame for table 'other_Diplo_B01196':\n+----------+-----------+--------------------+------------------+\n|      Date|       Time|          PU_Address|          Category|\n+----------+-----------+--------------------+------------------+\n|07-01-2014|12:00:00 AM| 2396 Valentine A...|other_Diplo_B01196|\n|07-01-2014|12:01:00 AM| 1859 Walton Ave ...|other_Diplo_B01196|\n|07-01-2014|12:02:00 AM| 2431 Jerome Ave ...|other_Diplo_B01196|\n|07-01-2014|12:05:00 AM| 3044 Valentine A...|other_Diplo_B01196|\n|07-01-2014|12:05:00 AM| 1085 Nelson Ave ...|other_Diplo_B01196|\n+----------+-----------+--------------------+------------------+\nonly showing top 5 rows\n\nNo of rows '100':\nDataFrame for table 'uber_raw_data_may14':\n+----------------+-------+--------+------+-------------------+\n|       Date/Time|    Lat|     Lon|  Base|           Category|\n+----------------+-------+--------+------+-------------------+\n|05-01-2014 00:02|40.7521|-73.9914|B02512|uber_raw_data_may14|\n|05-01-2014 00:06|40.6965|-73.9715|B02512|uber_raw_data_may14|\n|05-01-2014 00:15|40.7464|-73.9838|B02512|uber_raw_data_may14|\n|05-01-2014 00:17|40.7463|-74.0011|B02512|uber_raw_data_may14|\n|05-01-2014 00:17|40.7594|-73.9734|B02512|uber_raw_data_may14|\n+----------------+-------+--------+------+-------------------+\nonly showing top 5 rows\n\nNo of rows '100':\nDataFrame for table 'Uber_Jan_Feb_FOIL':\n+-----------------------+----------+---------------+-----+-----------------+\n|dispatching_base_number|      date|active_vehicles|trips|         Category|\n+-----------------------+----------+---------------+-----+-----------------+\n|                 B02512|01-01-2015|            190| 1132|Uber_Jan_Feb_FOIL|\n|                 B02765|01-01-2015|            225| 1765|Uber_Jan_Feb_FOIL|\n|                 B02764|01-01-2015|           3427|29421|Uber_Jan_Feb_FOIL|\n|                 B02682|01-01-2015|            945| 7679|Uber_Jan_Feb_FOIL|\n|                 B02617|01-01-2015|           1228| 9537|Uber_Jan_Feb_FOIL|\n+-----------------------+----------+---------------+-----+-----------------+\nonly showing top 5 rows\n\nNo of rows '100':\nDataFrame for table 'other_FHV_services_jan_aug_2015':\n+-----------+--------------------+------------+---------------+------------------+--------------------+\n|Base_Number|           Base_Name|Pick_Up_Date|Number_of_Trips|Number_of_Vehicles|            Category|\n+-----------+--------------------+------------+---------------+------------------+--------------------+\n|     B00013|   LOVE CORP CAR INC|  01-01-2015|             26|                17|other_FHV_service...|\n|     B00014| NY ONE CORP CAR INC|  01-01-2015|             45|                24|other_FHV_service...|\n|     B00029|COMMUNITY CAR SVC...|  01-01-2015|            731|                36|other_FHV_service...|\n|     B00053| CHARGE AND RIDE INC|  01-01-2015|             10|                 9|other_FHV_service...|\n|     B00095|LIBERTY CAR SERVI...|  01-01-2015|            814|                62|other_FHV_service...|\n+-----------+--------------------+------------+---------------+------------------+--------------------+\nonly showing top 5 rows\n\nNo of rows '100':\nDataFrame for table 'uber_raw_data_sep14':\n+----------------+-------+--------+------+-------------------+\n|       Date/Time|    Lat|     Lon|  Base|           Category|\n+----------------+-------+--------+------+-------------------+\n|09-01-2014 00:01|40.2201|-74.0021|B02512|uber_raw_data_sep14|\n|09-01-2014 00:01|  40.75|-74.0027|B02512|uber_raw_data_sep14|\n|09-01-2014 00:03|40.7559|-73.9864|B02512|uber_raw_data_sep14|\n|09-01-2014 00:06| 40.745|-73.9889|B02512|uber_raw_data_sep14|\n|09-01-2014 00:11|40.8145|-73.9444|B02512|uber_raw_data_sep14|\n+----------------+-------+--------+------+-------------------+\nonly showing top 5 rows\n\nNo of rows '100':\nDataFrame for table 'other_Highclass_B01717':\n+----------+-----------+--------------------+--------------------+\n|      DATE|       Time|          PU_Address|            Category|\n+----------+-----------+--------------------+--------------------+\n|07-01-2014|12:00:00 AM| 2976 Marion Ave ...|other_Highclass_B...|\n|07-01-2014|12:01:00 AM| 780 Grand Concou...|other_Highclass_B...|\n|07-01-2014|12:01:00 AM| 105 Elliot Pl Hi...|other_Highclass_B...|\n|07-01-2014|12:03:00 AM| 2825 Webb Ave Bronx|other_Highclass_B...|\n|07-01-2014|12:04:00 AM| 1878 Cedar Ave M...|other_Highclass_B...|\n+----------+-----------+--------------------+--------------------+\nonly showing top 5 rows\n\nNo of rows '100':\nDataFrame for table 'other_Federal_02216':\n+----------+-------+--------------------+--------------------+--------------------+--------------------+---------+-------------------+\n|      Date|   Time|         PU_Address2|          DO_Address|     Routing_Details|         PU_Address5|   Status|           Category|\n+----------+-------+--------------------+--------------------+--------------------+--------------------+---------+-------------------+\n|07-01-2014|7:15 AM|Brooklyn Museum, ...|1 Brookdale Plaza...|PU: Brooklyn Muse...|Brooklyn Museum, ...|Cancelled|other_Federal_02216|\n|07-01-2014|7:30 AM|33 Robert Dr., Sh...|John F Kennedy In...|PU: 33 Robert Dr....|33 Robert Dr., Sh...|  Arrived|other_Federal_02216|\n|07-01-2014|8:00 AM|60 Glenmore Ave.,...|2171 Nostrand Ave...|PU: 60 Glenmore A...|60 Glenmore Ave.,...| Assigned|other_Federal_02216|\n|07-01-2014|9:00 AM|128 East 31 St., ...|369 93rd St., BK ...|PU: 128 East 31 S...|128 East 31 St., ...| Assigned|other_Federal_02216|\n|07-01-2014|9:30 AM|139-39 35 Ave., F...|La Guardia Airport; |PU: 139-39 35 Ave...|139-39 35 Ave., F...| Assigned|other_Federal_02216|\n+----------+-------+--------------------+--------------------+--------------------+--------------------+---------+-------------------+\nonly showing top 5 rows\n\nNo of rows '100':\nDataFrame for table 'other_Skyline_B00111':\n+----------+-------------------+--------------------+-----------------+--------------------+\n|      Date|               Time|      Street_Address|       City_State|            Category|\n+----------+-------------------+--------------------+-----------------+--------------------+\n|07-01-2014|2024-05-15 20:27:00|        622 THIRD AV|             M   |other_Skyline_B00111|\n|07-01-2014|2024-05-15 21:04:00|         E 77TH ST  |             M   |other_Skyline_B00111|\n|07-01-2014|2024-05-15 22:20:00|67 WEST PALISADES...|PALISADES PARK NJ|other_Skyline_B00111|\n|07-01-2014|2024-05-15 12:28:00|130 MIDDLE NECK RD  |SANDS POINT LI   |other_Skyline_B00111|\n|07-01-2014|2024-05-15 16:45:00|        36 E 31ST ST|             M   |other_Skyline_B00111|\n+----------+-------------------+--------------------+-----------------+--------------------+\nonly showing top 5 rows\n\nNo of rows '100':\nDataFrame for table 'uber_raw_data_janjune_15':\n+--------------------+----------------+-------------------+----------+--------------------+\n|Dispatching_base_num|     Pickup_date|Affiliated_base_num|locationID|            Category|\n+--------------------+----------------+-------------------+----------+--------------------+\n|              B02617|17-05-2015 09:47|             B02617|       141|uber_raw_data_jan...|\n|              B02617|17-05-2015 09:47|             B02617|        65|uber_raw_data_jan...|\n|              B02617|17-05-2015 09:47|             B02617|       100|uber_raw_data_jan...|\n|              B02617|17-05-2015 09:47|             B02774|        80|uber_raw_data_jan...|\n|              B02617|17-05-2015 09:47|             B02617|        90|uber_raw_data_jan...|\n+--------------------+----------------+-------------------+----------+--------------------+\nonly showing top 5 rows\n\nNo of rows '100':\nDataFrame for table 'other_Prestige_B01338':\n+----------+-----------+--------------------+--------------------+\n|      DATE|       Time|     PICK_UP_ADDRESS|            Category|\n+----------+-----------+--------------------+--------------------+\n|07-01-2014|12:00:00 AM| 2557 Marion Ave ...|other_Prestige_B0...|\n|07-01-2014|12:00:00 AM| 45 E Mosholu Pkw...|other_Prestige_B0...|\n|07-01-2014|12:00:00 AM| 458 E 143rd St M...|other_Prestige_B0...|\n|07-01-2014|12:02:00 AM|MINIVAN SUV 2557 ...|other_Prestige_B0...|\n|07-01-2014|12:02:00 AM| 1117 Westchester...|other_Prestige_B0...|\n+----------+-----------+--------------------+--------------------+\nonly showing top 5 rows\n\nNo of rows '100':\nDataFrame for table 'uber_raw_data_aug14':\n+----------------+-------+--------+------+-------------------+\n|       Date/Time|    Lat|     Lon|  Base|           Category|\n+----------------+-------+--------+------+-------------------+\n|08-01-2014 00:03|40.7366|-73.9906|B02512|uber_raw_data_aug14|\n|08-01-2014 00:09| 40.726|-73.9918|B02512|uber_raw_data_aug14|\n|08-01-2014 00:12|40.7209|-74.0507|B02512|uber_raw_data_aug14|\n|08-01-2014 00:12|40.7387|-73.9856|B02512|uber_raw_data_aug14|\n|08-01-2014 00:12|40.7323|-74.0077|B02512|uber_raw_data_aug14|\n+----------------+-------+--------+------+-------------------+\nonly showing top 5 rows\n\n"
     ]
    },
    {
     "output_type": "stream",
     "name": "stdout",
     "output_type": "stream",
     "text": [
      "Out[13]: DataFrame[key: string, value: string]"
     ]
    },
    {
     "output_type": "stream",
     "name": "stdout",
     "output_type": "stream",
     "text": [
      "+-------+--------+--------------------+-------------------+----------+-----+\n|    Lat|     Lon|Dispatching_Base_Num|           Category|      Date| Time|\n+-------+--------+--------------------+-------------------+----------+-----+\n| 40.769|-73.9549|              B02512|uber_raw_data_apr14|2014-04-01|00:11|\n|40.7267|-74.0345|              B02512|uber_raw_data_apr14|2014-04-01|00:17|\n|40.7316|-73.9873|              B02512|uber_raw_data_apr14|2014-04-01|00:21|\n|40.7588|-73.9776|              B02512|uber_raw_data_apr14|2014-04-01|00:28|\n|40.7594|-73.9722|              B02512|uber_raw_data_apr14|2014-04-01|00:33|\n+-------+--------+--------------------+-------------------+----------+-----+\nonly showing top 5 rows\n\n"
     ]
    }
   ],
   "source": [
    "%run \"/Users/vaishnavi.balureddy2@cognizant.com/Uber Pick Ups/Combining and Cleaning Dataframes\""
   ]
  },
  {
   "cell_type": "code",
   "execution_count": 0,
   "metadata": {
    "application/vnd.databricks.v1+cell": {
     "cellMetadata": {
      "byteLimit": 2048000,
      "rowLimit": 10000
     },
     "inputWidgets": {},
     "nuid": "f53b80fe-0e86-4cf1-a8cf-23d2f54f98e1",
     "showTitle": false,
     "title": ""
    }
   },
   "outputs": [
    {
     "output_type": "stream",
     "name": "stdout",
     "output_type": "stream",
     "text": [
      "Folder 'Silver_Tables' created successfully at path 'dbfs:/FileStore/UberPickUps/Silver_Tables/'.\n"
     ]
    },
    {
     "output_type": "stream",
     "name": "stdout",
     "output_type": "stream",
     "text": [
      "+-------+--------+--------------------+-------------------+----------+-----+\n|    Lat|     Lon|Dispatching_Base_Num|           Category|      Date| Time|\n+-------+--------+--------------------+-------------------+----------+-----+\n|40.7586|-73.9706|              B02512|uber_raw_data_jul14|2014-07-01|00:03|\n|40.7605|-73.9994|              B02512|uber_raw_data_jul14|2014-07-01|00:05|\n| 40.732|-73.9999|              B02512|uber_raw_data_jul14|2014-07-01|00:06|\n|40.7635|-73.9793|              B02512|uber_raw_data_jul14|2014-07-01|00:09|\n|40.7204|-74.0047|              B02512|uber_raw_data_jul14|2014-07-01|00:20|\n+-------+--------+--------------------+-------------------+----------+-----+\nonly showing top 5 rows\n\n"
     ]
    },
    {
     "output_type": "stream",
     "name": "stdout",
     "output_type": "stream",
     "text": [
      "+-------+--------+--------------------+-------------------+----------+-----+\n|    Lat|     Lon|Dispatching_Base_Num|           Category|      Date| Time|\n+-------+--------+--------------------+-------------------+----------+-----+\n|40.7293| -73.992|              B02512|uber_raw_data_jun14|2014-06-01|00:00|\n|40.7131|-74.0097|              B02512|uber_raw_data_jun14|2014-06-01|00:01|\n|40.3461| -74.661|              B02512|uber_raw_data_jun14|2014-06-01|00:04|\n|40.7555|-73.9833|              B02512|uber_raw_data_jun14|2014-06-01|00:04|\n| 40.688|-74.1831|              B02512|uber_raw_data_jun14|2014-06-01|00:07|\n+-------+--------+--------------------+-------------------+----------+-----+\nonly showing top 5 rows\n\n"
     ]
    },
    {
     "output_type": "stream",
     "name": "stdout",
     "output_type": "stream",
     "text": [
      "+-------+--------+--------------------+-------------------+----------+-----+\n|    Lat|     Lon|Dispatching_Base_Num|           Category|      Date| Time|\n+-------+--------+--------------------+-------------------+----------+-----+\n|40.7521|-73.9914|              B02512|uber_raw_data_may14|2014-05-01|00:02|\n|40.6965|-73.9715|              B02512|uber_raw_data_may14|2014-05-01|00:06|\n|40.7464|-73.9838|              B02512|uber_raw_data_may14|2014-05-01|00:15|\n|40.7463|-74.0011|              B02512|uber_raw_data_may14|2014-05-01|00:17|\n|40.7594|-73.9734|              B02512|uber_raw_data_may14|2014-05-01|00:17|\n+-------+--------+--------------------+-------------------+----------+-----+\nonly showing top 5 rows\n\n"
     ]
    },
    {
     "output_type": "stream",
     "name": "stdout",
     "output_type": "stream",
     "text": [
      "+-------+--------+--------------------+-------------------+----------+-----+\n|    Lat|     Lon|Dispatching_Base_Num|           Category|      Date| Time|\n+-------+--------+--------------------+-------------------+----------+-----+\n|40.2201|-74.0021|              B02512|uber_raw_data_sep14|2014-09-01|00:01|\n|  40.75|-74.0027|              B02512|uber_raw_data_sep14|2014-09-01|00:01|\n|40.7559|-73.9864|              B02512|uber_raw_data_sep14|2014-09-01|00:03|\n| 40.745|-73.9889|              B02512|uber_raw_data_sep14|2014-09-01|00:06|\n|40.8145|-73.9444|              B02512|uber_raw_data_sep14|2014-09-01|00:11|\n+-------+--------+--------------------+-------------------+----------+-----+\nonly showing top 5 rows\n\n"
     ]
    },
    {
     "output_type": "stream",
     "name": "stdout",
     "output_type": "stream",
     "text": [
      "+--------+---------+-----------------+----------+-----+\n|     Lat|      Lon|         Category|      Date| Time|\n+--------+---------+-----------------+----------+-----+\n|40.64705|-73.77988|other_Lyft_B02510|2014-09-04|09:51|\n|40.74916|-73.98373|other_Lyft_B02510|2014-08-27|21:13|\n|40.64065|-73.97594|other_Lyft_B02510|2014-09-04|14:16|\n|40.75002|-73.99514|other_Lyft_B02510|2014-09-04|16:08|\n|40.76715|-73.98636|other_Lyft_B02510|2014-08-28| 2:41|\n+--------+---------+-----------------+----------+-----+\nonly showing top 5 rows\n\n"
     ]
    },
    {
     "output_type": "stream",
     "name": "stdout",
     "output_type": "stream",
     "text": [
      "+----------+---------------+--------------------+-------------------+--------+\n|      Date| Pickup_Address|Dispatching_Base_Num|           Category|    Time|\n+----------+---------------+--------------------+-------------------+--------+\n|07-01-2014|260 W 44 St NYC|              B00256|other_Carmel_B00256|00:00:00|\n|07-01-2014|125 W 29 St Nyc|              B00256|other_Carmel_B00256|00:00:00|\n|07-01-2014|141 W 28 St Nyc|              B00256|other_Carmel_B00256|00:00:00|\n|07-01-2014|            EWR|              B00256|other_Carmel_B00256|00:01:00|\n|07-01-2014|            JFK|              B00256|other_Carmel_B00256|00:07:00|\n+----------+---------------+--------------------+-------------------+--------+\nonly showing top 5 rows\n\n"
     ]
    },
    {
     "output_type": "stream",
     "name": "stdout",
     "output_type": "stream",
     "text": [
      "+----------+---------------+-------------------+--------+\n|      Date| Pickup_Address|           Category|    Time|\n+----------+---------------+-------------------+--------+\n|07-01-2014|260 W 44 St NYC|other_Carmel_B00256|00:00:00|\n|07-01-2014|125 W 29 St Nyc|other_Carmel_B00256|00:00:00|\n|07-01-2014|141 W 28 St Nyc|other_Carmel_B00256|00:00:00|\n|07-01-2014|            EWR|other_Carmel_B00256|00:01:00|\n|07-01-2014|            JFK|other_Carmel_B00256|00:07:00|\n+----------+---------------+-------------------+--------+\nonly showing top 5 rows\n\n"
     ]
    }
   ],
   "source": [
    "new_folder_name = \"Silver_Tables\"\n",
    "new_folder_path = \"dbfs:/FileStore/UberPickUps/\" + new_folder_name + \"/\"\n",
    "dbutils.fs.mkdirs(new_folder_path)\n",
    "\n",
    "try:\n",
    "    dbutils.fs.mkdirs(new_folder_path)\n",
    "    print(f\"Folder '{new_folder_name}' created successfully at path '{new_folder_path}'.\")\n",
    "except Exception as e:\n",
    "    print(f\"Failed to create folder '{new_folder_name}' at path '{new_folder_path}'.\")\n",
    "    print(f\"Error: {e}\")"
   ]
  },
  {
   "cell_type": "code",
   "execution_count": 0,
   "metadata": {
    "application/vnd.databricks.v1+cell": {
     "cellMetadata": {
      "byteLimit": 2048000,
      "rowLimit": 10000
     },
     "inputWidgets": {},
     "nuid": "84233cf1-fc2d-4563-987a-7b3986916220",
     "showTitle": false,
     "title": ""
    }
   },
   "outputs": [
    {
     "output_type": "stream",
     "name": "stdout",
     "output_type": "stream",
     "text": [
      "Out[2]: DataFrame[]"
     ]
    },
    {
     "output_type": "stream",
     "name": "stdout",
     "output_type": "stream",
     "text": [
      "+--------------------+----------+---------------+-----+-----------------+\n|Dispatching_Base_Num|      Date|Active_Vehicles|Trips|         Category|\n+--------------------+----------+---------------+-----+-----------------+\n|              B02512|01-01-2015|            190| 1132|Uber_Jan_Feb_FOIL|\n|              B02765|01-01-2015|            225| 1765|Uber_Jan_Feb_FOIL|\n|              B02764|01-01-2015|           3427|29421|Uber_Jan_Feb_FOIL|\n|              B02682|01-01-2015|            945| 7679|Uber_Jan_Feb_FOIL|\n|              B02617|01-01-2015|           1228| 9537|Uber_Jan_Feb_FOIL|\n+--------------------+----------+---------------+-----+-----------------+\nonly showing top 5 rows\n\n"
     ]
    },
    {
     "output_type": "stream",
     "name": "stdout",
     "output_type": "stream",
     "text": [
      "+--------------------+--------------------+----------+-----+---------------+--------------------+\n|Dispatching_Base_Num|           Base_Name|      Date|Trips|Active_Vehicles|            Category|\n+--------------------+--------------------+----------+-----+---------------+--------------------+\n|              B00013|   LOVE CORP CAR INC|01-01-2015|   26|             17|other_FHV_service...|\n|              B00014| NY ONE CORP CAR INC|01-01-2015|   45|             24|other_FHV_service...|\n|              B00029|COMMUNITY CAR SVC...|01-01-2015|  731|             36|other_FHV_service...|\n|              B00053| CHARGE AND RIDE INC|01-01-2015|   10|              9|other_FHV_service...|\n|              B00095|LIBERTY CAR SERVI...|01-01-2015|  814|             62|other_FHV_service...|\n+--------------------+--------------------+----------+-----+---------------+--------------------+\nonly showing top 5 rows\n\n"
     ]
    },
    {
     "output_type": "stream",
     "name": "stdout",
     "output_type": "stream",
     "text": [
      "+----------+-------+--------------------+--------------------+--------------------+---------+-------------------+\n|      Date|   Time|     Dropoff_Address|     Routing_Details|      Pickup_Address|   Status|           Category|\n+----------+-------+--------------------+--------------------+--------------------+---------+-------------------+\n|07-01-2014|7:15 AM|1 Brookdale Plaza...|PU: Brooklyn Muse...|Brooklyn Museum, ...|Cancelled|other_Federal_02216|\n|07-01-2014|7:30 AM|John F Kennedy In...|PU: 33 Robert Dr....|33 Robert Dr., Sh...|  Arrived|other_Federal_02216|\n|07-01-2014|8:00 AM|2171 Nostrand Ave...|PU: 60 Glenmore A...|60 Glenmore Ave.,...| Assigned|other_Federal_02216|\n|07-01-2014|9:00 AM|369 93rd St., BK ...|PU: 128 East 31 S...|128 East 31 St., ...| Assigned|other_Federal_02216|\n|07-01-2014|9:30 AM|La Guardia Airport; |PU: 139-39 35 Ave...|139-39 35 Ave., F...| Assigned|other_Federal_02216|\n+----------+-------+--------------------+--------------------+--------------------+---------+-------------------+\nonly showing top 5 rows\n\n"
     ]
    },
    {
     "output_type": "stream",
     "name": "stdout",
     "output_type": "stream",
     "text": [
      "+----------+-------+--------------------+-------------------+\n|      Date|   Time|      Pickup_Address|           Category|\n+----------+-------+--------------------+-------------------+\n|07-01-2014|7:15 AM|Brooklyn Museum, ...|other_Federal_02216|\n|07-01-2014|7:30 AM|33 Robert Dr., Sh...|other_Federal_02216|\n|07-01-2014|8:00 AM|60 Glenmore Ave.,...|other_Federal_02216|\n|07-01-2014|9:00 AM|128 East 31 St., ...|other_Federal_02216|\n|07-01-2014|9:30 AM|139-39 35 Ave., F...|other_Federal_02216|\n+----------+-------+--------------------+-------------------+\nonly showing top 5 rows\n\n"
     ]
    },
    {
     "output_type": "stream",
     "name": "stdout",
     "output_type": "stream",
     "text": [
      "+----------+--------------------+-----------------+--------------------+--------------------+--------+\n|      Date|      Street_Address|       City_State|            Category|      Pickup_Address|    Time|\n+----------+--------------------+-----------------+--------------------+--------------------+--------+\n|07-01-2014|        622 THIRD AV|             M   |other_Skyline_B00111|   622 THIRD AV M   |20:27:00|\n|07-01-2014|         E 77TH ST  |             M   |other_Skyline_B00111|    E 77TH ST   M   |21:04:00|\n|07-01-2014|67 WEST PALISADES...|PALISADES PARK NJ|other_Skyline_B00111|67 WEST PALISADES...|22:20:00|\n|07-01-2014|130 MIDDLE NECK RD  |SANDS POINT LI   |other_Skyline_B00111|130 MIDDLE NECK R...|12:28:00|\n|07-01-2014|        36 E 31ST ST|             M   |other_Skyline_B00111|   36 E 31ST ST M   |16:45:00|\n+----------+--------------------+-----------------+--------------------+--------------------+--------+\nonly showing top 5 rows\n\n"
     ]
    },
    {
     "output_type": "stream",
     "name": "stdout",
     "output_type": "stream",
     "text": [
      "+----------+--------------------+--------------------+--------+\n|      Date|            Category|      Pickup_Address|    Time|\n+----------+--------------------+--------------------+--------+\n|07-01-2014|other_Skyline_B00111|   622 THIRD AV M   |20:27:00|\n|07-01-2014|other_Skyline_B00111|    E 77TH ST   M   |21:04:00|\n|07-01-2014|other_Skyline_B00111|67 WEST PALISADES...|22:20:00|\n|07-01-2014|other_Skyline_B00111|130 MIDDLE NECK R...|12:28:00|\n|07-01-2014|other_Skyline_B00111|   36 E 31ST ST M   |16:45:00|\n+----------+--------------------+--------------------+--------+\nonly showing top 5 rows\n\n"
     ]
    },
    {
     "output_type": "stream",
     "name": "stdout",
     "output_type": "stream",
     "text": [
      "+--------------------+--------------------+----------+-----+\n|Dispatching_Base_Num|            Category|      Date| Time|\n+--------------------+--------------------+----------+-----+\n|              B02617|uber_raw_data_jan...|2015-05-17|09:47|\n|              B02617|uber_raw_data_jan...|2015-05-17|09:47|\n|              B02617|uber_raw_data_jan...|2015-05-17|09:47|\n|              B02617|uber_raw_data_jan...|2015-05-17|09:47|\n|              B02617|uber_raw_data_jan...|2015-05-17|09:47|\n+--------------------+--------------------+----------+-----+\nonly showing top 5 rows\n\n"
     ]
    },
    {
     "output_type": "stream",
     "name": "stdout",
     "output_type": "stream",
     "text": [
      "+----------+-----------+--------------------+--------------------+\n|      Date|       Time|      Pickup_Address|            Category|\n+----------+-----------+--------------------+--------------------+\n|07-01-2014|12:02:00 AM| 5360 Broadway Ki...|other_Firstclass_...|\n|07-01-2014|12:02:00 AM|    546 Isham St NYC|other_Firstclass_...|\n|07-01-2014|12:03:00 AM| 234 Bradhurst Av...|other_Firstclass_...|\n|07-01-2014|12:07:00 AM| 99 Marble Hill A...|other_Firstclass_...|\n|07-01-2014|12:08:00 AM| 120 Vermilyea Av...|other_Firstclass_...|\n+----------+-----------+--------------------+--------------------+\nonly showing top 5 rows\n\n"
     ]
    },
    {
     "output_type": "stream",
     "name": "stdout",
     "output_type": "stream",
     "text": [
      "+----------+-----------+--------------------+--------------------+\n|      Date|       Time|      Pickup_Address|            Category|\n+----------+-----------+--------------------+--------------------+\n|07-01-2014|12:00:00 AM| 874 E 139th St M...|other_American_B0...|\n|07-01-2014|12:01:00 AM| 628 E 141st St M...|other_American_B0...|\n|07-01-2014|12:01:00 AM| 601 E 156th St S...|other_American_B0...|\n|07-01-2014|12:01:00 AM| 708 E 138th St M...|other_American_B0...|\n|07-01-2014|12:02:00 AM| 700 E 140th St M...|other_American_B0...|\n+----------+-----------+--------------------+--------------------+\nonly showing top 5 rows\n\n"
     ]
    },
    {
     "output_type": "stream",
     "name": "stdout",
     "output_type": "stream",
     "text": [
      "+----------+-----------+--------------------+--------------------+\n|      Date|       Time|      Pickup_Address|            Category|\n+----------+-----------+--------------------+--------------------+\n|07-01-2014|12:00:00 AM| 2976 Marion Ave ...|other_Highclass_B...|\n|07-01-2014|12:01:00 AM| 780 Grand Concou...|other_Highclass_B...|\n|07-01-2014|12:01:00 AM| 105 Elliot Pl Hi...|other_Highclass_B...|\n|07-01-2014|12:03:00 AM| 2825 Webb Ave Bronx|other_Highclass_B...|\n|07-01-2014|12:04:00 AM| 1878 Cedar Ave M...|other_Highclass_B...|\n+----------+-----------+--------------------+--------------------+\nonly showing top 5 rows\n\n"
     ]
    },
    {
     "output_type": "stream",
     "name": "stdout",
     "output_type": "stream",
     "text": [
      "+----------+-----------+--------------------+--------------------+\n|      Date|       Time|      Pickup_Address|            Category|\n+----------+-----------+--------------------+--------------------+\n|07-01-2014|12:00:00 AM| 2557 Marion Ave ...|other_Prestige_B0...|\n|07-01-2014|12:00:00 AM| 45 E Mosholu Pkw...|other_Prestige_B0...|\n|07-01-2014|12:00:00 AM| 458 E 143rd St M...|other_Prestige_B0...|\n|07-01-2014|12:02:00 AM|MINIVAN SUV 2557 ...|other_Prestige_B0...|\n|07-01-2014|12:02:00 AM| 1117 Westchester...|other_Prestige_B0...|\n+----------+-----------+--------------------+--------------------+\nonly showing top 5 rows\n\n"
     ]
    },
    {
     "output_type": "stream",
     "name": "stdout",
     "output_type": "stream",
     "text": [
      "+----------+-----------+--------------------+------------------+\n|      Date|       Time|      Pickup_Address|          Category|\n+----------+-----------+--------------------+------------------+\n|07-01-2014|12:00:00 AM| 2396 Valentine A...|other_Diplo_B01196|\n|07-01-2014|12:01:00 AM| 1859 Walton Ave ...|other_Diplo_B01196|\n|07-01-2014|12:02:00 AM| 2431 Jerome Ave ...|other_Diplo_B01196|\n|07-01-2014|12:05:00 AM| 3044 Valentine A...|other_Diplo_B01196|\n|07-01-2014|12:05:00 AM| 1085 Nelson Ave ...|other_Diplo_B01196|\n+----------+-----------+--------------------+------------------+\nonly showing top 5 rows\n\n"
     ]
    },
    {
     "output_type": "stream",
     "name": "stdout",
     "output_type": "stream",
     "text": [
      "+-------+--------+--------------------+-------------------+----------+-----+\n|    Lat|     Lon|Dispatching_Base_Num|           Category|      Date| Time|\n+-------+--------+--------------------+-------------------+----------+-----+\n|40.7366|-73.9906|              B02512|uber_raw_data_aug14|2014-08-01|00:03|\n| 40.726|-73.9918|              B02512|uber_raw_data_aug14|2014-08-01|00:09|\n|40.7209|-74.0507|              B02512|uber_raw_data_aug14|2014-08-01|00:12|\n|40.7387|-73.9856|              B02512|uber_raw_data_aug14|2014-08-01|00:12|\n|40.7323|-74.0077|              B02512|uber_raw_data_aug14|2014-08-01|00:12|\n+-------+--------+--------------------+-------------------+----------+-----+\nonly showing top 5 rows\n\n"
     ]
    },
    {
     "output_type": "stream",
     "name": "stdout",
     "output_type": "stream",
     "text": [
      "+-----------------+----------+-----+-----------------------------------------------+\n|Category         |Date      |Time |Pickup_Address                                 |\n+-----------------+----------+-----+-----------------------------------------------+\n|other_Lyft_B02510|2014-09-04|09:51|null                                           |\n|other_Lyft_B02510|2014-08-27|21:13|null                                           |\n|other_Lyft_B02510|2014-09-04|14:16|null                                           |\n|other_Lyft_B02510|2014-09-04|16:08|null                                           |\n|other_Lyft_B02510|2014-08-28|2:41 |null                                           |\n|other_Lyft_B02510|2014-09-13|3:57 |null                                           |\n|other_Lyft_B02510|2014-09-11|23:13|null                                           |\n|other_Lyft_B02510|2014-08-27|22:56|null                                           |\n|other_Lyft_B02510|2014-09-10|17:48|null                                           |\n|other_Lyft_B02510|2014-09-12|23:24|null                                           |\n|other_Lyft_B02510|2014-08-28|3:10 |null                                           |\n|other_Lyft_B02510|2014-09-13|1:48 |null                                           |\n|other_Lyft_B02510|2014-09-13|4:22 |Forest Road 7324-400, Washington, United States|\n|other_Lyft_B02510|2014-09-04|23:38|null                                           |\n|other_Lyft_B02510|2014-09-13|0:20 |null                                           |\n|other_Lyft_B02510|2014-09-03|21:25|null                                           |\n|other_Lyft_B02510|2014-09-04|13:35|null                                           |\n|other_Lyft_B02510|2014-09-10|19:32|null                                           |\n|other_Lyft_B02510|2014-08-28|22:51|null                                           |\n|other_Lyft_B02510|2014-09-13|3:31 |null                                           |\n+-----------------+----------+-----+-----------------------------------------------+\nonly showing top 20 rows\n\n"
     ]
    },
    {
     "output_type": "stream",
     "name": "stdout",
     "output_type": "stream",
     "text": [
      "+-----------------+----------+-----+--------------+\n|         Category|      Date| Time|Pickup_Address|\n+-----------------+----------+-----+--------------+\n|other_Lyft_B02510|2014-09-04|09:51|          null|\n|other_Lyft_B02510|2014-08-27|21:13|          null|\n|other_Lyft_B02510|2014-09-04|14:16|          null|\n|other_Lyft_B02510|2014-09-04|16:08|          null|\n|other_Lyft_B02510|2014-08-28| 2:41|          null|\n+-----------------+----------+-----+--------------+\nonly showing top 5 rows\n\n"
     ]
    },
    {
     "output_type": "stream",
     "name": "stdout",
     "output_type": "stream",
     "text": [
      "Out[39]: DataFrame[key: string, value: string]"
     ]
    },
    {
     "output_type": "stream",
     "name": "stdout",
     "output_type": "stream",
     "text": [
      "+----------+-------+--------+--------------------+-------------------+--------+--------+\n|      Date|    Lat|     Lon|Dispatching_Base_Num|           Category|    Time| trip_ID|\n+----------+-------+--------+--------------------+-------------------+--------+--------+\n|2014-04-01| 40.769|-73.9549|              B02512|uber_raw_data_apr14|00:11:00|11947673|\n|2014-04-01|40.7267|-74.0345|              B02512|uber_raw_data_apr14|00:17:00|11947673|\n|2014-04-01|40.7316|-73.9873|              B02512|uber_raw_data_apr14|00:21:00|11947673|\n|2014-04-01|40.7588|-73.9776|              B02512|uber_raw_data_apr14|00:28:00|11947673|\n|2014-04-01|40.7594|-73.9722|              B02512|uber_raw_data_apr14|00:33:00|11947674|\n+----------+-------+--------+--------------------+-------------------+--------+--------+\nonly showing top 5 rows\n\n"
     ]
    }
   ],
   "source": [
    "create_db_qry=f\"\"\"CREATE DATABASE IF NOT EXISTS Uber_Silver\"\"\"\n",
    "spark.sql(create_db_qry)"
   ]
  },
  {
   "cell_type": "code",
   "execution_count": 0,
   "metadata": {
    "application/vnd.databricks.v1+cell": {
     "cellMetadata": {
      "byteLimit": 2048000,
      "rowLimit": 10000
     },
     "inputWidgets": {},
     "nuid": "8e5da275-9099-4338-8269-05b0fa64bd92",
     "showTitle": false,
     "title": ""
    }
   },
   "outputs": [
    {
     "output_type": "stream",
     "name": "stdout",
     "output_type": "stream",
     "text": [
      "Out[45]: [Row(Date='01-02-2015', Dispatching_Base_Num='B01777', Category='other_FHV_services_jan_aug_2015', Active_Vehicles='131', Base_Name='PREMIUM RADIO DISP & MULTI SVC', Trips='677', trip_ID='29411423'),\n Row(Date='01-02-2015', Dispatching_Base_Num='B01848', Category='other_FHV_services_jan_aug_2015', Active_Vehicles=' -   ', Base_Name='GRAND LIMO & CAR SERVICE INC.', Trips='11', trip_ID='29411424'),\n Row(Date='01-02-2015', Dispatching_Base_Num='B01877', Category='other_FHV_services_jan_aug_2015', Active_Vehicles='43', Base_Name='U.S.A. LIMO. INC.', Trips='76', trip_ID='29411425'),\n Row(Date='01-02-2015', Dispatching_Base_Num='B01899', Category='other_FHV_services_jan_aug_2015', Active_Vehicles='88', Base_Name='ALLSTATE PRIVATE CAR & LIMO,INC', Trips='726', trip_ID='29411426'),\n Row(Date='01-02-2015', Dispatching_Base_Num='B01949', Category='other_FHV_services_jan_aug_2015', Active_Vehicles='1', Base_Name='FIRST CLASS OF NEW YORK INC.', Trips='1', trip_ID='29411427')]"
     ]
    },
    {
     "output_type": "stream",
     "name": "stdout",
     "output_type": "stream",
     "text": [
      "Unique categories in UBERandFHV:\nB02512\nB02598\nB02682\nB02765\nB02617\nB02764\nB01341\nB00887\nB02715\nB00948\nB01197\nB00029\nB01313\nB01386\nB00381\nB00254\nB00837\nB02003\nB01087\nB00221\nB01300\nB01285\nB02513\nB01367    \nB02569\nB02653\nB02566\nB02022\nB01899\nB01848\nB01083\nB00412\nB01990\nB01282\nB00310\nB02285\nB00013\nB00227\nB00457\nB01312\nB01148\nB01522\nB01066\nB01651\nB00014\nB00053\nB00919\nB02475\nB02147\nB00477\nb01346\nB01777\nB01877\nB02120\nB01315\nB00280\nB02107\nB00552\nB00623\nB00248\nB00095\nB01949\nB02096\nB01984\n+----------+--------------------+-----------------+---------------+---------+-----+--------+\n|      Date|Dispatching_Base_Num|         Category|Active_Vehicles|Base_Name|Trips| trip_ID|\n+----------+--------------------+-----------------+---------------+---------+-----+--------+\n|01-01-2015|              B02512|Uber_Jan_Feb_FOIL|            190|     Uber| 1132|21947673|\n|01-01-2015|              B02765|Uber_Jan_Feb_FOIL|            225|     Uber| 1765|21947673|\n|01-01-2015|              B02764|Uber_Jan_Feb_FOIL|           3427|     Uber|29421|21947673|\n|01-01-2015|              B02682|Uber_Jan_Feb_FOIL|            945|     Uber| 7679|21947673|\n|01-01-2015|              B02617|Uber_Jan_Feb_FOIL|           1228|     Uber| 9537|21947674|\n|01-01-2015|              B02598|Uber_Jan_Feb_FOIL|            870|     Uber| 6903|21947674|\n|01-02-2015|              B02598|Uber_Jan_Feb_FOIL|            785|     Uber| 4768|21947674|\n|01-02-2015|              B02617|Uber_Jan_Feb_FOIL|           1137|     Uber| 7065|21947674|\n|01-02-2015|              B02512|Uber_Jan_Feb_FOIL|            175|     Uber|  875|21947674|\n|01-02-2015|              B02682|Uber_Jan_Feb_FOIL|            890|     Uber| 5506|21947674|\n|01-02-2015|              B02765|Uber_Jan_Feb_FOIL|            196|     Uber| 1001|21947674|\n|01-02-2015|              B02764|Uber_Jan_Feb_FOIL|           3147|     Uber|19974|21947674|\n|01-03-2015|              B02765|Uber_Jan_Feb_FOIL|            201|     Uber| 1526|21947674|\n|01-03-2015|              B02617|Uber_Jan_Feb_FOIL|           1188|     Uber|10664|21947674|\n|01-03-2015|              B02598|Uber_Jan_Feb_FOIL|            818|     Uber| 7432|21947675|\n|01-03-2015|              B02682|Uber_Jan_Feb_FOIL|            915|     Uber| 8010|21947675|\n|01-03-2015|              B02512|Uber_Jan_Feb_FOIL|            173|     Uber| 1088|21947675|\n|01-03-2015|              B02764|Uber_Jan_Feb_FOIL|           3215|     Uber|29729|21947675|\n|01-04-2015|              B02512|Uber_Jan_Feb_FOIL|            147|     Uber|  791|21947675|\n|01-04-2015|              B02682|Uber_Jan_Feb_FOIL|            812|     Uber| 5621|21947675|\n+----------+--------------------+-----------------+---------------+---------+-----+--------+\nonly showing top 20 rows\n\n"
     ]
    },
    {
     "output_type": "stream",
     "name": "stdout",
     "output_type": "stream",
     "text": [
      "+----------+--------------------+--------------------+--------+--------+\n|      Date|      Pickup_Address|            Category|    Time| trip_ID|\n+----------+--------------------+--------------------+--------+--------+\n|07-01-2014|   622 THIRD AV M   |other_Skyline_B00111|20:27:00|31947673|\n|07-01-2014|    E 77TH ST   M   |other_Skyline_B00111|21:04:00|31947673|\n|07-01-2014|67 WEST PALISADES...|other_Skyline_B00111|22:20:00|31947673|\n|07-01-2014|130 MIDDLE NECK R...|other_Skyline_B00111|12:28:00|31947673|\n|07-01-2014|   36 E 31ST ST M   |other_Skyline_B00111|16:45:00|31947674|\n+----------+--------------------+--------------------+--------+--------+\nonly showing top 5 rows\n\n"
     ]
    },
    {
     "output_type": "stream",
     "name": "stdout",
     "output_type": "stream",
     "text": [
      "Number of distinct pickup addresses: 641\n"
     ]
    },
    {
     "output_type": "stream",
     "name": "stdout",
     "output_type": "stream",
     "text": [
      "+--------------------+--------------------+----------+--------+--------+\n|Dispatching_Base_Num|            Category|      Date|    Time| trip_ID|\n+--------------------+--------------------+----------+--------+--------+\n|              B02617|uber_raw_data_jan...|2015-05-17|09:47:00|40000000|\n|              B02617|uber_raw_data_jan...|2015-05-17|09:47:00|40000001|\n|              B02617|uber_raw_data_jan...|2015-05-17|09:47:00|40000002|\n|              B02617|uber_raw_data_jan...|2015-05-17|09:47:00|40000003|\n|              B02617|uber_raw_data_jan...|2015-05-17|09:47:00|40000004|\n+--------------------+--------------------+----------+--------+--------+\nonly showing top 5 rows\n\n"
     ]
    },
    {
     "output_type": "stream",
     "name": "stdout",
     "output_type": "stream",
     "text": [
      "+----------+-------+--------+--------------------+-------------------+--------+--------+---------+\n|      Date|    Lat|     Lon|Dispatching_Base_Num|           Category|    Time| trip_ID|Base_Name|\n+----------+-------+--------+--------------------+-------------------+--------+--------+---------+\n|2014-04-01| 40.769|-73.9549|              B02512|uber_raw_data_apr14|00:11:00|11947673|    Unter|\n|2014-04-01|40.7267|-74.0345|              B02512|uber_raw_data_apr14|00:17:00|11947673|    Unter|\n+----------+-------+--------+--------------------+-------------------+--------+--------+---------+\nonly showing top 2 rows\n\n"
     ]
    },
    {
     "output_type": "stream",
     "name": "stdout",
     "output_type": "stream",
     "text": [
      "+----------+-------+--------+--------------------+-------------------+--------+--------+---------+\n|      Date|    Lat|     Lon|Dispatching_Base_Num|           Category|    Time| trip_ID|Base_Name|\n+----------+-------+--------+--------------------+-------------------+--------+--------+---------+\n|2014-04-01| 40.769|-73.9549|              B02512|uber_raw_data_apr14|00:11:00|11947673|    Unter|\n|2014-04-01|40.7267|-74.0345|              B02512|uber_raw_data_apr14|00:17:00|11947673|    Unter|\n+----------+-------+--------+--------------------+-------------------+--------+--------+---------+\nonly showing top 2 rows\n\n+--------------------+--------------------+----------+--------+--------+---------+--------+\n|Dispatching_Base_Num|            Category|      Date|    Time| trip_ID|Base_Name|Price[$]|\n+--------------------+--------------------+----------+--------+--------+---------+--------+\n|              B02617|uber_raw_data_jan...|2015-05-17|09:47:00|40000000|   Weiter|   21.37|\n|              B02617|uber_raw_data_jan...|2015-05-17|09:47:00|40000001|   Weiter|   86.69|\n+--------------------+--------------------+----------+--------+--------+---------+--------+\nonly showing top 2 rows\n\n+----------+--------------------+-----------------+---------------+---------+-----+--------+\n|      Date|Dispatching_Base_Num|         Category|Active_Vehicles|Base_Name|Trips| trip_ID|\n+----------+--------------------+-----------------+---------------+---------+-----+--------+\n|01-01-2015|              B02512|Uber_Jan_Feb_FOIL|            190|    Unter| 1132|21947673|\n|01-01-2015|              B02765|Uber_Jan_Feb_FOIL|            225|     Grun| 1765|21947673|\n+----------+--------------------+-----------------+---------------+---------+-----+--------+\nonly showing top 2 rows\n\n+----------+-----------------+--------------------+--------+--------+\n|      Date|   Pickup_Address|            Category|    Time| trip_ID|\n+----------+-----------------+--------------------+--------+--------+\n|07-01-2014|622 THIRD AV M   |other_Skyline_B00111|20:27:00|31947673|\n|07-01-2014| E 77TH ST   M   |other_Skyline_B00111|21:04:00|31947673|\n+----------+-----------------+--------------------+--------+--------+\nonly showing top 2 rows\n\n"
     ]
    }
   ],
   "source": [
    "\n",
    "path =  \"dbfs:/FileStore/UberPickUps/Silver_Tables/Uber_AprSep14/\"\n",
    "df = spark.read.format(\"delta\").load(path)\n",
    "df.write.mode('overwrite').saveAsTable('Uber_Silver.Uber_AprSep14')"
   ]
  },
  {
   "cell_type": "code",
   "execution_count": 0,
   "metadata": {
    "application/vnd.databricks.v1+cell": {
     "cellMetadata": {
      "byteLimit": 2048000,
      "rowLimit": 10000
     },
     "inputWidgets": {},
     "nuid": "2aac490b-8c21-47c7-a5ac-5419df2b2905",
     "showTitle": false,
     "title": ""
    }
   },
   "outputs": [],
   "source": [
    "path =  \"dbfs:/FileStore/UberPickUps/Silver_Tables/FHV_Data/\"\n",
    "df = spark.read.format(\"delta\").load(path)\n",
    "df.write.mode('overwrite').saveAsTable('Uber_Silver.FHV_Data')"
   ]
  },
  {
   "cell_type": "code",
   "execution_count": 0,
   "metadata": {
    "application/vnd.databricks.v1+cell": {
     "cellMetadata": {
      "byteLimit": 2048000,
      "rowLimit": 10000
     },
     "inputWidgets": {},
     "nuid": "483afb81-ac36-4a71-93a3-20fd2e5fa1d3",
     "showTitle": false,
     "title": ""
    }
   },
   "outputs": [],
   "source": [
    "path =  \"dbfs:/FileStore/UberPickUps/Silver_Tables/Uber_JanJun15/\"\n",
    "df = spark.read.format(\"delta\").load(path)\n",
    "df.write.mode('overwrite').saveAsTable('Uber_Silver.Uber_JanJun15')"
   ]
  },
  {
   "cell_type": "code",
   "execution_count": 0,
   "metadata": {
    "application/vnd.databricks.v1+cell": {
     "cellMetadata": {
      "byteLimit": 2048000,
      "rowLimit": 10000
     },
     "inputWidgets": {},
     "nuid": "57698a78-d642-4a4f-ae76-269d8dac7ffd",
     "showTitle": false,
     "title": ""
    }
   },
   "outputs": [],
   "source": [
    "path =  \"dbfs:/FileStore/UberPickUps/Silver_Tables/UBERandFHV/\"\n",
    "df = spark.read.format(\"delta\").load(path)\n",
    "df.write.mode('overwrite').saveAsTable('Uber_Silver.UBERandFHV')"
   ]
  },
  {
   "cell_type": "code",
   "execution_count": 0,
   "metadata": {
    "application/vnd.databricks.v1+cell": {
     "cellMetadata": {},
     "inputWidgets": {},
     "nuid": "5e08450a-def8-453f-87a0-5c2e27823968",
     "showTitle": false,
     "title": ""
    }
   },
   "outputs": [],
   "source": []
  }
 ],
 "metadata": {
  "application/vnd.databricks.v1+notebook": {
   "dashboards": [],
   "environmentMetadata": null,
   "language": "python",
   "notebookMetadata": {
    "pythonIndentUnit": 4
   },
   "notebookName": "Writing Silver Table",
   "widgets": {}
  }
 },
 "nbformat": 4,
 "nbformat_minor": 0
}
