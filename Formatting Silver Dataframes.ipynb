{
 "cells": [
  {
   "cell_type": "code",
   "execution_count": 0,
   "metadata": {
    "application/vnd.databricks.v1+cell": {
     "cellMetadata": {
      "byteLimit": 2048000,
      "rowLimit": 10000
     },
     "inputWidgets": {},
     "nuid": "46806e7a-b168-438d-a679-7e28fc2b7cd9",
     "showTitle": false,
     "title": ""
    }
   },
   "outputs": [
    {
     "output_type": "stream",
     "name": "stdout",
     "output_type": "stream",
     "text": [
      "Python interpreter will be restarted.\nCollecting geopy\n  Downloading geopy-2.4.1-py3-none-any.whl (125 kB)\nCollecting geographiclib<3,>=1.52\n  Downloading geographiclib-2.0-py3-none-any.whl (40 kB)\nInstalling collected packages: geographiclib, geopy\nSuccessfully installed geographiclib-2.0 geopy-2.4.1\nPython interpreter will be restarted.\n"
     ]
    }
   ],
   "source": [
    "#pip install geopy"
   ]
  },
  {
   "cell_type": "code",
   "execution_count": 0,
   "metadata": {
    "application/vnd.databricks.v1+cell": {
     "cellMetadata": {
      "byteLimit": 2048000,
      "rowLimit": 10000
     },
     "inputWidgets": {},
     "nuid": "121c91b0-3312-4393-8d1c-b263fc5fd02b",
     "showTitle": false,
     "title": ""
    }
   },
   "outputs": [],
   "source": [
    "from pyspark.sql.types import *\n",
    "from pyspark.sql import DataFrame\n",
    "from functools import reduce\n",
    "from pyspark.sql.functions import *\n",
    "from pyspark.sql import functions as F\n",
    "import os\n",
    "from pyspark.sql import *\n",
    "from pyspark.sql.functions import col, sum"
   ]
  },
  {
   "cell_type": "code",
   "execution_count": 0,
   "metadata": {
    "application/vnd.databricks.v1+cell": {
     "cellMetadata": {
      "byteLimit": 2048000,
      "rowLimit": 10000
     },
     "collapsed": true,
     "inputWidgets": {},
     "nuid": "6d7e4fc5-91c7-4337-9d60-71dca23176a1",
     "showTitle": false,
     "title": ""
    }
   },
   "outputs": [],
   "source": [
    "%run \"/Users/vaishnavi.balureddy2@cognizant.com/Uber Pick Ups/Reading Silver Dataframes\""
   ]
  },
  {
   "cell_type": "code",
   "execution_count": 0,
   "metadata": {
    "application/vnd.databricks.v1+cell": {
     "cellMetadata": {
      "byteLimit": 2048000,
      "rowLimit": 10000
     },
     "inputWidgets": {},
     "nuid": "567336eb-2fea-4aba-9ebb-f61a7bb189d8",
     "showTitle": false,
     "title": ""
    }
   },
   "outputs": [
    {
     "output_type": "stream",
     "name": "stdout",
     "output_type": "stream",
     "text": [
      "Out[9]: DataFrame[key: string, value: string]"
     ]
    },
    {
     "output_type": "stream",
     "name": "stdout",
     "output_type": "stream",
     "text": [
      "Out[3]: False"
     ]
    }
   ],
   "source": [
    "spark.conf.set(\"spark.databricks.delta.formatCheck.enabled\", \"false\")\n",
    "spark.sql(\"set spark.sql.legacy.timeParserPolicy=LEGACY\")"
   ]
  },
  {
   "cell_type": "code",
   "execution_count": 0,
   "metadata": {
    "application/vnd.databricks.v1+cell": {
     "cellMetadata": {
      "byteLimit": 2048000,
      "rowLimit": 10000
     },
     "inputWidgets": {},
     "nuid": "94edbfdf-02b7-4fe7-8a42-c342b534b8ed",
     "showTitle": false,
     "title": ""
    }
   },
   "outputs": [
    {
     "output_type": "stream",
     "name": "stdout",
     "output_type": "stream",
     "text": [
      "Out[7]: 18"
     ]
    },
    {
     "output_type": "stream",
     "name": "stdout",
     "output_type": "stream",
     "text": [
      "No of rows '100':\nDataFrame for table 'other_American_B01362':\n+----------+-----------+--------------------+--------------------+\n|      DATE|       Time|     PICK_UP_ADDRESS|            Category|\n+----------+-----------+--------------------+--------------------+\n|07-01-2014|12:00:00 AM| 874 E 139th St M...|other_American_B0...|\n|07-01-2014|12:01:00 AM| 628 E 141st St M...|other_American_B0...|\n+----------+-----------+--------------------+--------------------+\nonly showing top 2 rows\n\nNo of rows '100':\nDataFrame for table 'other_Diplo_B01196':\n+----------+-----------+--------------------+------------------+\n|      Date|       Time|          PU_Address|          Category|\n+----------+-----------+--------------------+------------------+\n|07-01-2014|12:00:00 AM| 2396 Valentine A...|other_Diplo_B01196|\n|07-01-2014|12:01:00 AM| 1859 Walton Ave ...|other_Diplo_B01196|\n+----------+-----------+--------------------+------------------+\nonly showing top 2 rows\n\nNo of rows '100':\nDataFrame for table 'Uber_Jan_Feb_FOIL':\n+-----------------------+----------+---------------+-----+-----------------+\n|dispatching_base_number|      date|active_vehicles|trips|         Category|\n+-----------------------+----------+---------------+-----+-----------------+\n|                 B02512|01-01-2015|            190| 1132|Uber_Jan_Feb_FOIL|\n|                 B02765|01-01-2015|            225| 1765|Uber_Jan_Feb_FOIL|\n+-----------------------+----------+---------------+-----+-----------------+\nonly showing top 2 rows\n\nNo of rows '100':\nDataFrame for table 'other_Firstclass_B01536':\n+----------+-----------+--------------------+--------------------+\n|      DATE|       Time|     PICK_UP_ADDRESS|            Category|\n+----------+-----------+--------------------+--------------------+\n|07-01-2014|12:02:00 AM| 5360 Broadway Ki...|other_Firstclass_...|\n|07-01-2014|12:02:00 AM|    546 Isham St NYC|other_Firstclass_...|\n+----------+-----------+--------------------+--------------------+\nonly showing top 2 rows\n\nNo of rows '100':\nDataFrame for table 'uber_raw_data_janjune_15':\n+--------------------+----------------+-------------------+----------+--------------------+\n|Dispatching_base_num|     Pickup_date|Affiliated_base_num|locationID|            Category|\n+--------------------+----------------+-------------------+----------+--------------------+\n|              B02617|17-05-2015 09:47|             B02617|       141|uber_raw_data_jan...|\n|              B02617|17-05-2015 09:47|             B02617|        65|uber_raw_data_jan...|\n+--------------------+----------------+-------------------+----------+--------------------+\nonly showing top 2 rows\n\nNo of rows '100':\nDataFrame for table 'other_Skyline_B00111':\n+----------+-------------------+--------------+----------+--------------------+\n|      Date|               Time|Street_Address|City_State|            Category|\n+----------+-------------------+--------------+----------+--------------------+\n|07-01-2014|2024-06-03 20:27:00|  622 THIRD AV|      M   |other_Skyline_B00111|\n|07-01-2014|2024-06-03 21:04:00|   E 77TH ST  |      M   |other_Skyline_B00111|\n+----------+-------------------+--------------+----------+--------------------+\nonly showing top 2 rows\n\nNo of rows '100':\nDataFrame for table 'uber_raw_data_apr14':\n+----------------+-------+--------+------+-------------------+\n|       Date/Time|    Lat|     Lon|  Base|           Category|\n+----------------+-------+--------+------+-------------------+\n|04-01-2014 00:11| 40.769|-73.9549|B02512|uber_raw_data_apr14|\n|04-01-2014 00:17|40.7267|-74.0345|B02512|uber_raw_data_apr14|\n+----------------+-------+--------+------+-------------------+\nonly showing top 2 rows\n\nNo of rows '100':\nDataFrame for table 'other_Highclass_B01717':\n+----------+-----------+--------------------+--------------------+\n|      DATE|       Time|          PU_Address|            Category|\n+----------+-----------+--------------------+--------------------+\n|07-01-2014|12:00:00 AM| 2976 Marion Ave ...|other_Highclass_B...|\n|07-01-2014|12:01:00 AM| 780 Grand Concou...|other_Highclass_B...|\n+----------+-----------+--------------------+--------------------+\nonly showing top 2 rows\n\nNo of rows '100':\nDataFrame for table 'other_FHV_services_jan_aug_2015':\n+-----------+-------------------+------------+---------------+------------------+--------------------+\n|Base_Number|          Base_Name|Pick_Up_Date|Number_of_Trips|Number_of_Vehicles|            Category|\n+-----------+-------------------+------------+---------------+------------------+--------------------+\n|     B00013|  LOVE CORP CAR INC|  01-01-2015|             26|                17|other_FHV_service...|\n|     B00014|NY ONE CORP CAR INC|  01-01-2015|             45|                24|other_FHV_service...|\n+-----------+-------------------+------------+---------------+------------------+--------------------+\nonly showing top 2 rows\n\nNo of rows '100':\nDataFrame for table 'uber_raw_data_sep14':\n+----------------+-------+--------+------+-------------------+\n|       Date/Time|    Lat|     Lon|  Base|           Category|\n+----------------+-------+--------+------+-------------------+\n|09-01-2014 00:01|40.2201|-74.0021|B02512|uber_raw_data_sep14|\n|09-01-2014 00:01|  40.75|-74.0027|B02512|uber_raw_data_sep14|\n+----------------+-------+--------+------+-------------------+\nonly showing top 2 rows\n\nNo of rows '100':\nDataFrame for table 'uber_raw_data_jul14':\n+----------------+-------+--------+------+-------------------+\n|       Date/Time|    Lat|     Lon|  Base|           Category|\n+----------------+-------+--------+------+-------------------+\n|07-01-2014 00:03|40.7586|-73.9706|B02512|uber_raw_data_jul14|\n|07-01-2014 00:05|40.7605|-73.9994|B02512|uber_raw_data_jul14|\n+----------------+-------+--------+------+-------------------+\nonly showing top 2 rows\n\nNo of rows '100':\nDataFrame for table 'other_Federal_02216':\n+----------+-------+--------------------+--------------------+--------------------+--------------------+---------+-------------------+\n|      Date|   Time|         PU_Address2|          DO_Address|     Routing_Details|         PU_Address5|   Status|           Category|\n+----------+-------+--------------------+--------------------+--------------------+--------------------+---------+-------------------+\n|07-01-2014|7:15 AM|Brooklyn Museum, ...|1 Brookdale Plaza...|PU: Brooklyn Muse...|Brooklyn Museum, ...|Cancelled|other_Federal_02216|\n|07-01-2014|7:30 AM|33 Robert Dr., Sh...|John F Kennedy In...|PU: 33 Robert Dr....|33 Robert Dr., Sh...|  Arrived|other_Federal_02216|\n+----------+-------+--------------------+--------------------+--------------------+--------------------+---------+-------------------+\nonly showing top 2 rows\n\nNo of rows '100':\nDataFrame for table 'uber_raw_data_aug14':\n+----------------+-------+--------+------+-------------------+\n|       Date/Time|    Lat|     Lon|  Base|           Category|\n+----------------+-------+--------+------+-------------------+\n|08-01-2014 00:03|40.7366|-73.9906|B02512|uber_raw_data_aug14|\n|08-01-2014 00:09| 40.726|-73.9918|B02512|uber_raw_data_aug14|\n+----------------+-------+--------+------+-------------------+\nonly showing top 2 rows\n\nNo of rows '100':\nDataFrame for table 'uber_raw_data_may14':\n+----------------+-------+--------+------+-------------------+\n|       Date/Time|    Lat|     Lon|  Base|           Category|\n+----------------+-------+--------+------+-------------------+\n|05-01-2014 00:02|40.7521|-73.9914|B02512|uber_raw_data_may14|\n|05-01-2014 00:06|40.6965|-73.9715|B02512|uber_raw_data_may14|\n+----------------+-------+--------+------+-------------------+\nonly showing top 2 rows\n\nNo of rows '100':\nDataFrame for table 'uber_raw_data_jun14':\n+----------------+-------+--------+------+-------------------+\n|       Date/Time|    Lat|     Lon|  Base|           Category|\n+----------------+-------+--------+------+-------------------+\n|06-01-2014 00:00|40.7293| -73.992|B02512|uber_raw_data_jun14|\n|06-01-2014 00:01|40.7131|-74.0097|B02512|uber_raw_data_jun14|\n+----------------+-------+--------+------+-------------------+\nonly showing top 2 rows\n\nNo of rows '100':\nDataFrame for table 'other_Lyft_B02510':\n+----------------+---------+---------+-----------------+\n|    time_of_trip|start_lat|start_lng|         Category|\n+----------------+---------+---------+-----------------+\n|09-04-2014 09:51| 40.64705|-73.77988|other_Lyft_B02510|\n| 8/27/2014 21:13| 40.74916|-73.98373|other_Lyft_B02510|\n+----------------+---------+---------+-----------------+\nonly showing top 2 rows\n\nNo of rows '100':\nDataFrame for table 'other_Prestige_B01338':\n+----------+-----------+--------------------+--------------------+\n|      DATE|       Time|     PICK_UP_ADDRESS|            Category|\n+----------+-----------+--------------------+--------------------+\n|07-01-2014|12:00:00 AM| 2557 Marion Ave ...|other_Prestige_B0...|\n|07-01-2014|12:00:00 AM| 45 E Mosholu Pkw...|other_Prestige_B0...|\n+----------+-----------+--------------------+--------------------+\nonly showing top 2 rows\n\nNo of rows '100':\nDataFrame for table 'other_Carmel_B00256':\n+----------+-------------------+---------------+-------+-------------------+\n|      Date|               Time|      PU_Adress|Base_No|           Category|\n+----------+-------------------+---------------+-------+-------------------+\n|07-01-2014|2024-06-03 00:00:00|260 W 44 St NYC| B00256|other_Carmel_B00256|\n|07-01-2014|2024-06-03 00:00:00|125 W 29 St Nyc| B00256|other_Carmel_B00256|\n+----------+-------------------+---------------+-------+-------------------+\nonly showing top 2 rows\n\n"
     ]
    }
   ],
   "source": [
    "time1 = 'Date/Time'\n",
    "dfs['uber_raw_data_apr14'] = dfs['uber_raw_data_apr14'].withColumn(\"Date\", to_date(\"Date/Time\", 'MM-dd-yyyy HH:mm'))\n",
    "dfs['uber_raw_data_apr14'] = dfs['uber_raw_data_apr14'].withColumn(\"Time\", split(\"Date/Time\", \" \")[1])\n",
    "dfs['uber_raw_data_apr14'] = dfs['uber_raw_data_apr14'].drop('Date/Time')\n",
    "dfs['uber_raw_data_apr14'] = dfs['uber_raw_data_apr14'].withColumnRenamed(\"Base\", \"Dispatching_Base_Num\")"
   ]
  },
  {
   "cell_type": "code",
   "execution_count": 0,
   "metadata": {
    "application/vnd.databricks.v1+cell": {
     "cellMetadata": {
      "byteLimit": 2048000,
      "rowLimit": 10000
     },
     "inputWidgets": {},
     "nuid": "66187bc2-dc11-40f4-831d-fcaf7c41eed9",
     "showTitle": false,
     "title": ""
    }
   },
   "outputs": [],
   "source": [
    "dfs['uber_raw_data_jul14'] = dfs['uber_raw_data_jul14'].withColumn(\"Date\", to_date(\"Date/Time\", 'MM-dd-yyyy HH:mm'))\n",
    "dfs['uber_raw_data_jul14'] = dfs['uber_raw_data_jul14'].withColumn(\"Time\", split(\"Date/Time\", \" \")[1])\n",
    "dfs['uber_raw_data_jul14'] = dfs['uber_raw_data_jul14'].drop('Date/Time')\n",
    "dfs['uber_raw_data_jul14'] = dfs['uber_raw_data_jul14'].withColumnRenamed(\"Base\", \"Dispatching_Base_Num\")"
   ]
  },
  {
   "cell_type": "code",
   "execution_count": 0,
   "metadata": {
    "application/vnd.databricks.v1+cell": {
     "cellMetadata": {
      "byteLimit": 2048000,
      "rowLimit": 10000
     },
     "inputWidgets": {},
     "nuid": "9a2a1953-7468-47a0-97ca-fc2419bfb865",
     "showTitle": false,
     "title": ""
    }
   },
   "outputs": [],
   "source": [
    "dfs['uber_raw_data_jun14'] = dfs['uber_raw_data_jun14'].withColumn(\"Date\", to_date(\"Date/Time\", 'MM-dd-yyyy HH:mm'))\n",
    "dfs['uber_raw_data_jun14'] = dfs['uber_raw_data_jun14'].withColumn(\"Time\", split(\"Date/Time\", \" \")[1])\n",
    "dfs['uber_raw_data_jun14'] = dfs['uber_raw_data_jun14'].drop('Date/Time')\n",
    "dfs['uber_raw_data_jun14'] = dfs['uber_raw_data_jun14'].withColumnRenamed(\"Base\", \"Dispatching_Base_Num\")"
   ]
  },
  {
   "cell_type": "code",
   "execution_count": 0,
   "metadata": {
    "application/vnd.databricks.v1+cell": {
     "cellMetadata": {
      "byteLimit": 2048000,
      "rowLimit": 10000
     },
     "inputWidgets": {},
     "nuid": "1019ca6f-0a73-4fcb-9fe6-99f0e62c7740",
     "showTitle": false,
     "title": ""
    }
   },
   "outputs": [],
   "source": [
    "dfs['uber_raw_data_may14'] = dfs['uber_raw_data_may14'].withColumn(\"Date\", to_date(\"Date/Time\", 'MM-dd-yyyy HH:mm'))\n",
    "dfs['uber_raw_data_may14'] = dfs['uber_raw_data_may14'].withColumn(\"Time\", split(\"Date/Time\", \" \")[1])\n",
    "dfs['uber_raw_data_may14'] = dfs['uber_raw_data_may14'].drop('Date/Time')\n",
    "dfs['uber_raw_data_may14'] = dfs['uber_raw_data_may14'].withColumnRenamed(\"Base\", \"Dispatching_Base_Num\")"
   ]
  },
  {
   "cell_type": "code",
   "execution_count": 0,
   "metadata": {
    "application/vnd.databricks.v1+cell": {
     "cellMetadata": {
      "byteLimit": 2048000,
      "rowLimit": 10000
     },
     "inputWidgets": {},
     "nuid": "1a061b45-d7a6-4802-b1c9-7615d9fb5451",
     "showTitle": false,
     "title": ""
    }
   },
   "outputs": [],
   "source": [
    "dfs['uber_raw_data_sep14'] = dfs['uber_raw_data_sep14'].withColumn(\"Date\", to_date(\"Date/Time\", 'MM-dd-yyyy HH:mm'))\n",
    "dfs['uber_raw_data_sep14'] = dfs['uber_raw_data_sep14'].withColumn(\"Time\", split(\"Date/Time\", \" \")[1])\n",
    "dfs['uber_raw_data_sep14'] = dfs['uber_raw_data_sep14'].drop('Date/Time')\n",
    "dfs['uber_raw_data_sep14'] = dfs['uber_raw_data_sep14'].withColumnRenamed(\"Base\", \"Dispatching_Base_Num\")"
   ]
  },
  {
   "cell_type": "code",
   "execution_count": 0,
   "metadata": {
    "application/vnd.databricks.v1+cell": {
     "cellMetadata": {
      "byteLimit": 2048000,
      "rowLimit": 10000
     },
     "inputWidgets": {},
     "nuid": "fe59d72a-f2e0-40ee-9a4c-62cc28fef301",
     "showTitle": false,
     "title": ""
    }
   },
   "outputs": [],
   "source": [
    "dfs['other_Lyft_B02510'] = dfs['other_Lyft_B02510'].withColumnRenamed(\"start_lat\", \"Lat\") \\\n",
    "                                                     .withColumnRenamed(\"start_lng\", \"Lon\")\n",
    "\n",
    "dfs['other_Lyft_B02510'] = dfs['other_Lyft_B02510'].withColumn(\"Date\", \n",
    "                                                              when(to_date(\"time_of_trip\", 'MM-dd-yyyy HH:mm').isNotNull(), \n",
    "                                                                   to_date(\"time_of_trip\", 'MM-dd-yyyy HH:mm'))\n",
    "                                                              .when(to_date(\"time_of_trip\", 'M/dd/yyyy HH:mm').isNotNull(), \n",
    "                                                                    to_date(\"time_of_trip\", 'M/dd/yyyy HH:mm'))\n",
    "                                                              .otherwise(None))\n",
    "\n",
    "dfs['other_Lyft_B02510'] = dfs['other_Lyft_B02510'].withColumn(\"Time\", split(\"time_of_trip\", \" \")[1])\n",
    "\n",
    "dfs['other_Lyft_B02510'] = dfs['other_Lyft_B02510'].drop('time_of_trip')\n",
    "\n",
    "dfs['other_Lyft_B02510'] = dfs['other_Lyft_B02510'].select(\"*\")"
   ]
  },
  {
   "cell_type": "code",
   "execution_count": 0,
   "metadata": {
    "application/vnd.databricks.v1+cell": {
     "cellMetadata": {
      "byteLimit": 2048000,
      "rowLimit": 10000
     },
     "inputWidgets": {},
     "nuid": "02550d9d-9abc-45de-ae48-9e4ca50ceb98",
     "showTitle": false,
     "title": ""
    }
   },
   "outputs": [],
   "source": [
    "dfs['other_Carmel_B00256'] = dfs['other_Carmel_B00256'].withColumn(\"Time1\", split(\"Time\", \" \")[1])\n",
    "\n",
    "dfs['other_Carmel_B00256'] = dfs['other_Carmel_B00256'].drop('Time')\n",
    "dfs['other_Carmel_B00256'] = dfs['other_Carmel_B00256'].withColumnRenamed(\"Time1\", \"Time\")\n",
    "dfs['other_Carmel_B00256'] = dfs['other_Carmel_B00256'].withColumnRenamed(\"PU_Adress\", \"Pickup_Address\")\n",
    "dfs['other_Carmel_B00256'] = dfs['other_Carmel_B00256'].withColumnRenamed(\"Base_No\", \"Dispatching_Base_Num\")\n",
    "\n",
    "dfs['other_Carmel_B00256'] = dfs['other_Carmel_B00256'].select(\"*\")"
   ]
  },
  {
   "cell_type": "code",
   "execution_count": 0,
   "metadata": {
    "application/vnd.databricks.v1+cell": {
     "cellMetadata": {
      "byteLimit": 2048000,
      "rowLimit": 10000
     },
     "inputWidgets": {},
     "nuid": "038affcf-212a-4448-8105-689ec4c6313a",
     "showTitle": false,
     "title": ""
    }
   },
   "outputs": [],
   "source": [
    "dfs['other_Carmel_B00256'] = dfs['other_Carmel_B00256'].drop('Dispatching_Base_Num')"
   ]
  },
  {
   "cell_type": "code",
   "execution_count": 0,
   "metadata": {
    "application/vnd.databricks.v1+cell": {
     "cellMetadata": {
      "byteLimit": 2048000,
      "rowLimit": 10000
     },
     "inputWidgets": {},
     "nuid": "d0c588d3-e847-48f5-ae5e-fe421e2fb5fe",
     "showTitle": false,
     "title": ""
    }
   },
   "outputs": [],
   "source": [
    "dfs['Uber_Jan_Feb_FOIL'] = dfs['Uber_Jan_Feb_FOIL'].withColumnRenamed(\"dispatching_base_number\", \"Dispatching_Base_Num\")\n",
    "dfs['Uber_Jan_Feb_FOIL'] = dfs['Uber_Jan_Feb_FOIL'].withColumnRenamed(\"date\", \"Date\")\n",
    "dfs['Uber_Jan_Feb_FOIL'] = dfs['Uber_Jan_Feb_FOIL'].withColumnRenamed(\"active_vehicles\", \"Active_Vehicles\")\n",
    "dfs['Uber_Jan_Feb_FOIL'] = dfs['Uber_Jan_Feb_FOIL'].withColumnRenamed(\"trips\", \"Trips\")\n",
    "\n",
    "\n",
    "dfs['Uber_Jan_Feb_FOIL'] = dfs['Uber_Jan_Feb_FOIL'].select(\"*\")"
   ]
  },
  {
   "cell_type": "code",
   "execution_count": 0,
   "metadata": {
    "application/vnd.databricks.v1+cell": {
     "cellMetadata": {
      "byteLimit": 2048000,
      "rowLimit": 10000
     },
     "inputWidgets": {},
     "nuid": "71bb8c05-c3cd-4763-b0ff-59f1d1d0dc58",
     "showTitle": false,
     "title": ""
    }
   },
   "outputs": [],
   "source": [
    "dfs['other_FHV_services_jan_aug_2015'] = dfs['other_FHV_services_jan_aug_2015'].withColumnRenamed(\"Base_Number\", \"Dispatching_Base_Num\")\n",
    "dfs['other_FHV_services_jan_aug_2015'] = dfs['other_FHV_services_jan_aug_2015'].withColumnRenamed(\"Pick_Up_Date\", \"Date\")\n",
    "dfs['other_FHV_services_jan_aug_2015'] = dfs['other_FHV_services_jan_aug_2015'].withColumnRenamed(\"Number_of_Vehicles\", \"Active_Vehicles\")\n",
    "dfs['other_FHV_services_jan_aug_2015'] = dfs['other_FHV_services_jan_aug_2015'].withColumnRenamed(\"Number_of_Trips\", \"Trips\")\n",
    "\n",
    "\n",
    "dfs['other_FHV_services_jan_aug_2015'] = dfs['other_FHV_services_jan_aug_2015'].select(\"*\")"
   ]
  },
  {
   "cell_type": "code",
   "execution_count": 0,
   "metadata": {
    "application/vnd.databricks.v1+cell": {
     "cellMetadata": {
      "byteLimit": 2048000,
      "rowLimit": 10000
     },
     "inputWidgets": {},
     "nuid": "6108bb21-0f82-4f27-85eb-a099d8d7faba",
     "showTitle": false,
     "title": ""
    }
   },
   "outputs": [],
   "source": [
    "dfs['other_Federal_02216'] = dfs['other_Federal_02216'].withColumnRenamed(\"DO_Address\", \"Dropoff_Address\")\n",
    "dfs['other_Federal_02216'] = dfs['other_Federal_02216'].withColumnRenamed(\"PU_Address5\", \"Pickup_Address\")\n",
    "dfs['other_Federal_02216'] = dfs['other_Federal_02216'].drop(\"PU_Address2\")\n",
    "\n",
    "\n",
    "dfs['other_Federal_02216'] = dfs['other_Federal_02216'].select(\"*\")"
   ]
  },
  {
   "cell_type": "code",
   "execution_count": 0,
   "metadata": {
    "application/vnd.databricks.v1+cell": {
     "cellMetadata": {
      "byteLimit": 2048000,
      "rowLimit": 10000
     },
     "inputWidgets": {},
     "nuid": "8e92ab87-b7a5-432a-acbb-2449d0af3eff",
     "showTitle": false,
     "title": ""
    }
   },
   "outputs": [],
   "source": [
    "\n",
    "dfs['other_Federal_02216'] = dfs['other_Federal_02216'].drop(\"Dropoff_Address\").drop(\"Routing_Details\").drop(\"Status\")"
   ]
  },
  {
   "cell_type": "code",
   "execution_count": 0,
   "metadata": {
    "application/vnd.databricks.v1+cell": {
     "cellMetadata": {
      "byteLimit": 2048000,
      "rowLimit": 10000
     },
     "inputWidgets": {},
     "nuid": "1f19624e-487d-4fa8-8fcc-cc2a2f86ee75",
     "showTitle": false,
     "title": ""
    }
   },
   "outputs": [],
   "source": [
    "dfs['other_Skyline_B00111'] = dfs['other_Skyline_B00111'].withColumn(\"Pickup_Address\", concat(col(\"Street_Address\"), col(\"City_State\")))\n",
    "\n",
    "\n",
    "dfs['other_Skyline_B00111'] = dfs['other_Skyline_B00111'].withColumn(\"Time1\", split(\"Time\", \" \")[1])\n",
    "\n",
    "dfs['other_Skyline_B00111'] = dfs['other_Skyline_B00111'].drop('Time')\n",
    "dfs['other_Skyline_B00111'] = dfs['other_Skyline_B00111'].withColumnRenamed(\"Time1\", \"Time\")\n",
    "dfs['other_Skyline_B00111'] = dfs['other_Skyline_B00111'].select(\"*\")"
   ]
  },
  {
   "cell_type": "code",
   "execution_count": 0,
   "metadata": {
    "application/vnd.databricks.v1+cell": {
     "cellMetadata": {
      "byteLimit": 2048000,
      "rowLimit": 10000
     },
     "inputWidgets": {},
     "nuid": "e8fd4751-e1a1-42c2-aa11-299116ddfaca",
     "showTitle": false,
     "title": ""
    }
   },
   "outputs": [],
   "source": [
    "dfs['other_Skyline_B00111'] = dfs['other_Skyline_B00111'].drop('Street_Address')\n",
    "dfs['other_Skyline_B00111'] = dfs['other_Skyline_B00111'].drop('City_State')"
   ]
  },
  {
   "cell_type": "code",
   "execution_count": 0,
   "metadata": {
    "application/vnd.databricks.v1+cell": {
     "cellMetadata": {
      "byteLimit": 2048000,
      "rowLimit": 10000
     },
     "inputWidgets": {},
     "nuid": "d81c1dd2-ce47-4cec-923f-4a7ed44302bf",
     "showTitle": false,
     "title": ""
    }
   },
   "outputs": [],
   "source": [
    "dfs['uber_raw_data_janjune_15'] = dfs['uber_raw_data_janjune_15'].withColumn(\"Date\", to_date(\"Pickup_date\", 'dd-MM-yyyy HH:mm'))\n",
    "dfs['uber_raw_data_janjune_15'] = dfs['uber_raw_data_janjune_15'].withColumn(\"Time\", split(\"Pickup_date\", \" \")[1])\n",
    "dfs['uber_raw_data_janjune_15'] = dfs['uber_raw_data_janjune_15'].drop('Pickup_date')\n",
    "dfs['uber_raw_data_janjune_15'] = dfs['uber_raw_data_janjune_15'].withColumnRenamed(\"Dispatching_base_num\", \"Dispatching_Base_Num\")\n",
    "dfs['uber_raw_data_janjune_15'] = dfs['uber_raw_data_janjune_15'].drop('Affiliated_base_num')\n",
    "dfs['uber_raw_data_janjune_15'] = dfs['uber_raw_data_janjune_15'].drop('locationID')"
   ]
  },
  {
   "cell_type": "code",
   "execution_count": 0,
   "metadata": {
    "application/vnd.databricks.v1+cell": {
     "cellMetadata": {
      "byteLimit": 2048000,
      "rowLimit": 10000
     },
     "inputWidgets": {},
     "nuid": "23596d19-30e7-4b46-a630-1f1817a0599c",
     "showTitle": false,
     "title": ""
    }
   },
   "outputs": [],
   "source": [
    "dfs['other_Firstclass_B01536'] = dfs['other_Firstclass_B01536'].withColumnRenamed(\"DATE\", \"Date\")\n",
    "dfs['other_Firstclass_B01536'] = dfs['other_Firstclass_B01536'].withColumnRenamed(\"PICK_UP_ADDRESS\", \"Pickup_Address\")\n",
    "\n",
    "dfs['other_Firstclass_B01536'] = dfs['other_Firstclass_B01536'].select(\"*\")"
   ]
  },
  {
   "cell_type": "code",
   "execution_count": 0,
   "metadata": {
    "application/vnd.databricks.v1+cell": {
     "cellMetadata": {
      "byteLimit": 2048000,
      "rowLimit": 10000
     },
     "inputWidgets": {},
     "nuid": "846a33b7-1564-4e68-93a3-73d047c4b86a",
     "showTitle": false,
     "title": ""
    }
   },
   "outputs": [],
   "source": [
    "dfs['other_American_B01362'] = dfs['other_American_B01362'].withColumnRenamed(\"DATE\", \"Date\")\n",
    "dfs['other_American_B01362'] = dfs['other_American_B01362'].withColumnRenamed(\"PICK_UP_ADDRESS\", \"Pickup_Address\")\n",
    "\n",
    "dfs['other_American_B01362'] = dfs['other_American_B01362'].select(\"*\")"
   ]
  },
  {
   "cell_type": "code",
   "execution_count": 0,
   "metadata": {
    "application/vnd.databricks.v1+cell": {
     "cellMetadata": {
      "byteLimit": 2048000,
      "rowLimit": 10000
     },
     "inputWidgets": {},
     "nuid": "083137ea-560d-4304-a643-f440615ba739",
     "showTitle": false,
     "title": ""
    }
   },
   "outputs": [],
   "source": [
    "dfs['other_Highclass_B01717'] = dfs['other_Highclass_B01717'].withColumnRenamed(\"DATE\", \"Date\")\n",
    "dfs['other_Highclass_B01717'] = dfs['other_Highclass_B01717'].withColumnRenamed(\"PU_ADDRESS\", \"Pickup_Address\")\n",
    "\n",
    "dfs['other_Highclass_B01717'] = dfs['other_Highclass_B01717'].select(\"*\")"
   ]
  },
  {
   "cell_type": "code",
   "execution_count": 0,
   "metadata": {
    "application/vnd.databricks.v1+cell": {
     "cellMetadata": {
      "byteLimit": 2048000,
      "rowLimit": 10000
     },
     "inputWidgets": {},
     "nuid": "536b2b18-9c28-4115-b37d-05b98348626b",
     "showTitle": false,
     "title": ""
    }
   },
   "outputs": [],
   "source": [
    "dfs['other_Prestige_B01338'] = dfs['other_Prestige_B01338'].withColumnRenamed(\"DATE\", \"Date\")\n",
    "dfs['other_Prestige_B01338'] = dfs['other_Prestige_B01338'].withColumnRenamed(\"PICK_UP_ADDRESS\", \"Pickup_Address\")\n",
    "\n",
    "dfs['other_Prestige_B01338'] = dfs['other_Prestige_B01338'].select(\"*\")"
   ]
  },
  {
   "cell_type": "code",
   "execution_count": 0,
   "metadata": {
    "application/vnd.databricks.v1+cell": {
     "cellMetadata": {
      "byteLimit": 2048000,
      "rowLimit": 10000
     },
     "inputWidgets": {},
     "nuid": "c0927335-0aa6-4896-87b9-53f6266e466f",
     "showTitle": false,
     "title": ""
    }
   },
   "outputs": [],
   "source": [
    "dfs['other_Diplo_B01196'] = dfs['other_Diplo_B01196'].withColumnRenamed(\"DATE\", \"Date\")\n",
    "dfs['other_Diplo_B01196'] = dfs['other_Diplo_B01196'].withColumnRenamed(\"PU_ADDRESS\", \"Pickup_Address\")\n",
    "\n",
    "dfs['other_Diplo_B01196'] = dfs['other_Diplo_B01196'].select(\"*\")"
   ]
  },
  {
   "cell_type": "code",
   "execution_count": 0,
   "metadata": {
    "application/vnd.databricks.v1+cell": {
     "cellMetadata": {
      "byteLimit": 2048000,
      "rowLimit": 10000
     },
     "inputWidgets": {},
     "nuid": "c34993b5-02da-400f-a70b-314e17999667",
     "showTitle": false,
     "title": ""
    }
   },
   "outputs": [],
   "source": [
    "dfs['uber_raw_data_aug14'] = dfs['uber_raw_data_aug14'].withColumn(\"Date\", to_date(\"Date/Time\", 'MM-dd-yyyy HH:mm'))\n",
    "dfs['uber_raw_data_aug14'] = dfs['uber_raw_data_aug14'].withColumn(\"Time\", split(\"Date/Time\", \" \")[1])\n",
    "dfs['uber_raw_data_aug14'] = dfs['uber_raw_data_aug14'].drop('Date/Time')\n",
    "dfs['uber_raw_data_aug14'] = dfs['uber_raw_data_aug14'].withColumnRenamed(\"Base\", \"Dispatching_Base_Num\")"
   ]
  },
  {
   "cell_type": "code",
   "execution_count": 0,
   "metadata": {
    "application/vnd.databricks.v1+cell": {
     "cellMetadata": {
      "byteLimit": 2048000,
      "rowLimit": 10000
     },
     "inputWidgets": {},
     "nuid": "721a0158-be92-480a-9239-7be3ccecd6e6",
     "showTitle": false,
     "title": ""
    }
   },
   "outputs": [],
   "source": [
    "from geopy.geocoders import Photon"
   ]
  },
  {
   "cell_type": "code",
   "execution_count": 0,
   "metadata": {
    "application/vnd.databricks.v1+cell": {
     "cellMetadata": {
      "byteLimit": 2048000,
      "rowLimit": 10000
     },
     "inputWidgets": {},
     "nuid": "8b14e4e1-c93b-4b6b-a3c2-df6e4c4fa2f9",
     "showTitle": false,
     "title": ""
    }
   },
   "outputs": [],
   "source": [
    "def geocode(lat, lon):\n",
    "    try:\n",
    "        geolocator = Photon(user_agent=\"geoapiExercises\")\n",
    "        location = geolocator.geocode(f\"{lat},{lon}\")\n",
    "        return location.address if location else None\n",
    "    except Exception as e:\n",
    "        return None\n",
    "\n",
    "geocode_udf = udf(geocode, StringType())"
   ]
  },
  {
   "cell_type": "code",
   "execution_count": 0,
   "metadata": {
    "application/vnd.databricks.v1+cell": {
     "cellMetadata": {
      "byteLimit": 2048000,
      "rowLimit": 10000
     },
     "inputWidgets": {},
     "nuid": "511a0d4a-5bc6-4502-8610-410daee1c481",
     "showTitle": false,
     "title": ""
    }
   },
   "outputs": [],
   "source": [
    "x = dfs['other_Lyft_B02510'].withColumn(\"Pickup_Address\", geocode_udf(dfs['other_Lyft_B02510'][\"Lat\"], dfs['other_Lyft_B02510'][\"Lon\"]))\n",
    "\n",
    "x = x.drop('Lat').drop('Lon')"
   ]
  },
  {
   "cell_type": "code",
   "execution_count": 0,
   "metadata": {
    "application/vnd.databricks.v1+cell": {
     "cellMetadata": {
      "byteLimit": 2048000,
      "rowLimit": 10000
     },
     "inputWidgets": {},
     "nuid": "39d3b241-5ddb-4a57-8738-739c0bc249fb",
     "showTitle": false,
     "title": ""
    }
   },
   "outputs": [],
   "source": [
    "dfs['other_Lyft_B02510'] = x"
   ]
  },
  {
   "cell_type": "code",
   "execution_count": 0,
   "metadata": {
    "application/vnd.databricks.v1+cell": {
     "cellMetadata": {
      "byteLimit": 2048000,
      "rowLimit": 10000
     },
     "inputWidgets": {},
     "nuid": "e810d0d9-08a9-45bd-bd4a-7cc6d2027b25",
     "showTitle": false,
     "title": ""
    }
   },
   "outputs": [],
   "source": []
  }
 ],
 "metadata": {
  "application/vnd.databricks.v1+notebook": {
   "dashboards": [],
   "environmentMetadata": null,
   "language": "python",
   "notebookMetadata": {
    "pythonIndentUnit": 4
   },
   "notebookName": "Formatting Silver Dataframes",
   "widgets": {}
  }
 },
 "nbformat": 4,
 "nbformat_minor": 0
}
